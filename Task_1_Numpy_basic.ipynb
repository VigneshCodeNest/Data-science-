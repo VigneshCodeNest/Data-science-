{
  "nbformat": 4,
  "nbformat_minor": 0,
  "metadata": {
    "colab": {
      "provenance": [],
      "authorship_tag": "ABX9TyMmaLR5v4D7MXhxLQDGnr4f",
      "include_colab_link": true
    },
    "kernelspec": {
      "name": "python3",
      "display_name": "Python 3"
    },
    "language_info": {
      "name": "python"
    }
  },
  "cells": [
    {
      "cell_type": "markdown",
      "metadata": {
        "id": "view-in-github",
        "colab_type": "text"
      },
      "source": [
        "<a href=\"https://colab.research.google.com/github/VigneshCodeNest/Data-science-/blob/main/Task_1_Numpy_basic.ipynb\" target=\"_parent\"><img src=\"https://colab.research.google.com/assets/colab-badge.svg\" alt=\"Open In Colab\"/></a>"
      ]
    },
    {
      "cell_type": "code",
      "execution_count": null,
      "metadata": {
        "id": "IOiC6dJ1W-tU"
      },
      "outputs": [],
      "source": [
        "#import Numpy library\n",
        "import numpy as np"
      ]
    },
    {
      "cell_type": "code",
      "source": [
        "a=np.array([1,2,3])       #create one dimentional array\n",
        "b=np.array([4,5,6])       #create two dimentional array\n",
        "c=np.array([97,98,99])   #create three dimentional arrays\n",
        "print(np. concatenate([a, b]))#CONCADENATE 2 ARRAYS\n",
        "np. concatenate([a, b, c]) #CONCADENATE  3 ARRAYS"
      ],
      "metadata": {
        "colab": {
          "base_uri": "https://localhost:8080/"
        },
        "id": "d5WvoJl8fu2J",
        "outputId": "5671dc45-e992-429d-985c-d95717b1f59f"
      },
      "execution_count": null,
      "outputs": [
        {
          "output_type": "stream",
          "name": "stdout",
          "text": [
            "[1 2 3 4 5 6]\n"
          ]
        },
        {
          "output_type": "execute_result",
          "data": {
            "text/plain": [
              "array([ 1,  2,  3,  4,  5,  6, 97, 98, 99])"
            ]
          },
          "metadata": {},
          "execution_count": 2
        }
      ]
    },
    {
      "cell_type": "code",
      "source": [
        "import numpy as np\n",
        "a = np.array([5,10,15])  #create one dimentional array\n",
        "print(a)"
      ],
      "metadata": {
        "colab": {
          "base_uri": "https://localhost:8080/"
        },
        "id": "6atSaN2BfxVy",
        "outputId": "833e53be-b064-4842-fe30-7909a3d180fb"
      },
      "execution_count": null,
      "outputs": [
        {
          "output_type": "stream",
          "name": "stdout",
          "text": [
            "[ 5 10 15]\n"
          ]
        }
      ]
    },
    {
      "cell_type": "code",
      "source": [
        "import numpy as np\n",
        "b = np.array([(9,8,7), (4,5,6)], dtype = int)          #create two dimentional arrays\n",
        "print(b)"
      ],
      "metadata": {
        "colab": {
          "base_uri": "https://localhost:8080/"
        },
        "id": "CaU-iT3wf6JN",
        "outputId": "b2c57fe5-2f52-46bb-892e-bfe45a89b09a"
      },
      "execution_count": null,
      "outputs": [
        {
          "output_type": "stream",
          "name": "stdout",
          "text": [
            "[[9 8 7]\n",
            " [4 5 6]]\n"
          ]
        }
      ]
    },
    {
      "cell_type": "code",
      "source": [
        "import numpy as np\n",
        "c = np.array([[(1.5,2.5,3.5), (4.5,5.5,6.5)], [(7.5,8.5,9.5), (10.5,11.5,12.5)]],dtype = float)       #create three dimentional arrays\n",
        "print(c)"
      ],
      "metadata": {
        "colab": {
          "base_uri": "https://localhost:8080/"
        },
        "id": "PuGha3f2gBT8",
        "outputId": "5d542456-8b67-4d78-e978-975a84122650"
      },
      "execution_count": null,
      "outputs": [
        {
          "output_type": "stream",
          "name": "stdout",
          "text": [
            "[[[ 1.5  2.5  3.5]\n",
            "  [ 4.5  5.5  6.5]]\n",
            "\n",
            " [[ 7.5  8.5  9.5]\n",
            "  [10.5 11.5 12.5]]]\n"
          ]
        }
      ]
    },
    {
      "cell_type": "code",
      "source": [
        "import numpy as np\n",
        "np.zeros((3,3))     #create zerows of array"
      ],
      "metadata": {
        "colab": {
          "base_uri": "https://localhost:8080/"
        },
        "id": "bR-Ix9YGgWRz",
        "outputId": "d2e7e118-e2d7-4bee-dab1-cc01b34a3765"
      },
      "execution_count": null,
      "outputs": [
        {
          "output_type": "execute_result",
          "data": {
            "text/plain": [
              "array([[0., 0., 0.],\n",
              "       [0., 0., 0.],\n",
              "       [0., 0., 0.]])"
            ]
          },
          "metadata": {},
          "execution_count": 7
        }
      ]
    },
    {
      "cell_type": "code",
      "source": [],
      "metadata": {
        "id": "wevRmKXWiY2d"
      },
      "execution_count": null,
      "outputs": []
    },
    {
      "cell_type": "code",
      "source": [
        "x5=[1,2,3,4,5,6,7,8,9]\n",
        "p, q, r=np.split(x5, [3, 6])     #spilt the array\n",
        "print(p, q, r)"
      ],
      "metadata": {
        "id": "ABXcttj9gYw0",
        "colab": {
          "base_uri": "https://localhost:8080/"
        },
        "outputId": "bba57c38-6dfe-4af7-fd5e-e1c5f1b6cc8d"
      },
      "execution_count": null,
      "outputs": [
        {
          "output_type": "stream",
          "name": "stdout",
          "text": [
            "[1 2 3] [4 5 6] [7 8 9]\n"
          ]
        }
      ]
    },
    {
      "cell_type": "code",
      "source": [
        "grid=np.arange(16). reshape((4, 4))   #reshape the array\n",
        "upper, lower = np.vsplit(grid,[2])\n",
        "left, right=np.hsplit(grid, [2])\n",
        "print(upper)\n",
        "print(lower)\n",
        "print(left)\n",
        "print(right)"
      ],
      "metadata": {
        "id": "AVAGK_TnjbIp",
        "outputId": "c8b3bb75-3628-4e6c-ba1e-02f975cfd3f8",
        "colab": {
          "base_uri": "https://localhost:8080/"
        }
      },
      "execution_count": null,
      "outputs": [
        {
          "output_type": "stream",
          "name": "stdout",
          "text": [
            "[[0 1 2 3]\n",
            " [4 5 6 7]]\n",
            "[[ 8  9 10 11]\n",
            " [12 13 14 15]]\n",
            "[[ 0  1]\n",
            " [ 4  5]\n",
            " [ 8  9]\n",
            " [12 13]]\n",
            "[[ 2  3]\n",
            " [ 6  7]\n",
            " [10 11]\n",
            " [14 15]]\n"
          ]
        }
      ]
    },
    {
      "cell_type": "code",
      "source": [
        "x=np.arange(20)  #arange element below 20\n",
        "print(x)\n",
        "print(x[15: 18])\n",
        "print(x[1: 10])\n",
        "print(x[5:: 3])\n",
        "print(x[ :: -8])"
      ],
      "metadata": {
        "id": "BAEhY-jEjeDZ",
        "colab": {
          "base_uri": "https://localhost:8080/"
        },
        "outputId": "3927762a-c05a-4909-9a53-018b03adb994"
      },
      "execution_count": null,
      "outputs": [
        {
          "output_type": "stream",
          "name": "stdout",
          "text": [
            "[ 0  1  2  3  4  5  6  7  8  9 10 11 12 13 14 15 16 17 18 19]\n",
            "[15 16 17]\n",
            "[1 2 3 4 5 6 7 8 9]\n",
            "[ 5  8 11 14 17]\n",
            "[19 11  3]\n"
          ]
        }
      ]
    },
    {
      "cell_type": "code",
      "source": [
        "import numpy as np\n",
        "np.random.seed(0)\n",
        "x2 = np.random.randint(30, size=(3, 3))  #random element below 30\n",
        "print(x2)"
      ],
      "metadata": {
        "colab": {
          "base_uri": "https://localhost:8080/"
        },
        "id": "Q3_DMVrxj0Zr",
        "outputId": "0797ddbf-122a-4386-9193-9b833cd6e52d"
      },
      "execution_count": null,
      "outputs": [
        {
          "output_type": "stream",
          "name": "stdout",
          "text": [
            "[[12 15 21]\n",
            " [ 0  3 27]\n",
            " [ 3  7  9]]\n"
          ]
        }
      ]
    },
    {
      "cell_type": "code",
      "source": [
        "import numpy as np\n",
        "d = np.arange(10,20,2)  #create an array 10 to 20 the range of 2\n",
        "print(d)"
      ],
      "metadata": {
        "colab": {
          "base_uri": "https://localhost:8080/"
        },
        "id": "qGC9S49Kj2wJ",
        "outputId": "a96d9323-3a02-45f3-d9f5-fb61d43b5b13"
      },
      "execution_count": null,
      "outputs": [
        {
          "output_type": "stream",
          "name": "stdout",
          "text": [
            "[10 12 14 16 18]\n"
          ]
        }
      ]
    },
    {
      "cell_type": "code",
      "source": [
        "import numpy as np\n",
        "e = np.full((2,2),7)  #fill the perticular element in full array\n",
        "print(e)"
      ],
      "metadata": {
        "colab": {
          "base_uri": "https://localhost:8080/"
        },
        "id": "ZOrynHIYkpoc",
        "outputId": "ec704f06-ec61-4437-cd12-8aabdb9daf0c"
      },
      "execution_count": null,
      "outputs": [
        {
          "output_type": "stream",
          "name": "stdout",
          "text": [
            "[[7 7]\n",
            " [7 7]]\n"
          ]
        }
      ]
    },
    {
      "cell_type": "code",
      "source": [
        "import numpy as np\n",
        "a=np.empty((3,2))   #create an empty array\n",
        "print(a)"
      ],
      "metadata": {
        "id": "6G1XnWCdj-2Q",
        "colab": {
          "base_uri": "https://localhost:8080/"
        },
        "outputId": "355a8cee-1ba6-4d9d-dd67-6b8628b7e1fe"
      },
      "execution_count": null,
      "outputs": [
        {
          "output_type": "stream",
          "name": "stdout",
          "text": [
            "[[5.05971195e-310 0.00000000e+000]\n",
            " [1.58101007e-322 1.58101007e-322]\n",
            " [5.05971215e-310 5.05214405e-310]]\n"
          ]
        }
      ]
    },
    {
      "cell_type": "code",
      "source": [
        "import numpy as np\n",
        "np.random.seed(0)\n",
        "x3 = np.random.randint(50, size=(1,2,3))\n",
        "print(\"x3 ndim:\", x3. ndim)     #dimention of an array\n",
        "print(\"x3 shape:\", x3. shape)     #shape of an array\n",
        "print(\"x3 size:\" , x3. size)     #size of an array\n",
        "print(\"x3 dtype:\", x3. dtype)     #data type of an array\n",
        "print(\"itemsize:\", x3.itemsize, \"bytes\")\n",
        "print(\"nbytes:\", x3.nbytes, \"bytes\")"
      ],
      "metadata": {
        "id": "PhtQJTt2lcAm",
        "colab": {
          "base_uri": "https://localhost:8080/"
        },
        "outputId": "9f98cf31-08d8-4aeb-f4bc-2d112629d2d1"
      },
      "execution_count": null,
      "outputs": [
        {
          "output_type": "stream",
          "name": "stdout",
          "text": [
            "x3 ndim: 3\n",
            "x3 shape: (1, 2, 3)\n",
            "x3 size: 6\n",
            "x3 dtype: int64\n",
            "itemsize: 8 bytes\n",
            "nbytes: 48 bytes\n"
          ]
        }
      ]
    },
    {
      "cell_type": "code",
      "source": [
        "import numpy as np\n",
        "np.random.random((2,2))  #random element"
      ],
      "metadata": {
        "id": "x0ti07rRk2eM",
        "outputId": "9c24c4e1-596a-4f4e-e969-55067df672ec",
        "colab": {
          "base_uri": "https://localhost:8080/"
        }
      },
      "execution_count": null,
      "outputs": [
        {
          "output_type": "execute_result",
          "data": {
            "text/plain": [
              "array([[0.4236548 , 0.64589411],\n",
              "       [0.43758721, 0.891773  ]])"
            ]
          },
          "metadata": {},
          "execution_count": 23
        }
      ]
    },
    {
      "cell_type": "code",
      "source": [
        "import numpy as np\n",
        "np.linspace(5,50,2)"
      ],
      "metadata": {
        "colab": {
          "base_uri": "https://localhost:8080/"
        },
        "id": "R0Jd5f1gmPts",
        "outputId": "40441676-a314-49ed-9341-7b0c0eeca7a8"
      },
      "execution_count": null,
      "outputs": [
        {
          "output_type": "execute_result",
          "data": {
            "text/plain": [
              "array([ 5., 50.])"
            ]
          },
          "metadata": {},
          "execution_count": 27
        }
      ]
    },
    {
      "cell_type": "code",
      "source": [
        "import numpy as np\n",
        "np.random.seed(0)\n",
        "\n",
        "x1 = np.random.randint(20, size=6)\n",
        "print(x1)"
      ],
      "metadata": {
        "colab": {
          "base_uri": "https://localhost:8080/"
        },
        "id": "hVX-0V5fmgIN",
        "outputId": "7fd3aa47-ca77-47e5-f98c-87b41f832eb8"
      },
      "execution_count": null,
      "outputs": [
        {
          "output_type": "stream",
          "name": "stdout",
          "text": [
            "[12 15  0  3  3  7]\n"
          ]
        }
      ]
    },
    {
      "cell_type": "code",
      "source": [
        "import numpy as np\n",
        "np.random.seed(0)\n",
        "\n",
        "x1 = np.random.randint(20, size=6)\n",
        "print(x1)"
      ],
      "metadata": {
        "id": "6VuXgi6KlvU_",
        "colab": {
          "base_uri": "https://localhost:8080/"
        },
        "outputId": "99ecf3ec-073a-4c8e-b9ec-66d2f5f0b166"
      },
      "execution_count": null,
      "outputs": [
        {
          "output_type": "stream",
          "name": "stdout",
          "text": [
            "[12 15  0  3  3  7]\n"
          ]
        }
      ]
    },
    {
      "cell_type": "code",
      "source": [
        "a=np.array(([7,4,3], [8,11,6]) )\n",
        "print(a)"
      ],
      "metadata": {
        "colab": {
          "base_uri": "https://localhost:8080/"
        },
        "id": "UMjjJ3W6mnr2",
        "outputId": "b1331583-8f1b-474f-82c2-d8eb0402788b"
      },
      "execution_count": null,
      "outputs": [
        {
          "output_type": "stream",
          "name": "stdout",
          "text": [
            "[[ 7  4  3]\n",
            " [ 8 11  6]]\n"
          ]
        }
      ]
    },
    {
      "cell_type": "code",
      "source": [
        "print(\"sum is\",np.sum(a) )  #sum of array\n",
        "print(\"mean is\",np.mean(a) )  #mean of array\n",
        "print(\"median is\",np.median(a) )  #median of array\n",
        "print(\"std is\",np.std(a) )  #std of array\n",
        "print(\"min is\",np.min(a) )  #min of array\n",
        "print(\"max is\",np.max(a) )  #max of array\n",
        "print(\"sort is\",np.sort(a) )   #sorting in array"
      ],
      "metadata": {
        "colab": {
          "base_uri": "https://localhost:8080/"
        },
        "id": "3mlau0T5m2mr",
        "outputId": "e3cd7a1d-e10a-47ce-fa45-1855efd9dca4"
      },
      "execution_count": null,
      "outputs": [
        {
          "output_type": "stream",
          "name": "stdout",
          "text": [
            "sum is 39\n",
            "mean is 6.5\n",
            "median is 6.5\n",
            "std is 2.6299556396765835\n",
            "min is 3\n",
            "max is 11\n",
            "sort is [[ 3  4  7]\n",
            " [ 6  8 11]]\n"
          ]
        }
      ]
    },
    {
      "cell_type": "code",
      "source": [
        "print(\"sin is\",np.sin(a) )  #sin of an array\n",
        "print(\"cos is\",np.cos(a) )  #cos of an array\n",
        "print(\"tan is\",np.tan(a) )  #tan of an array"
      ],
      "metadata": {
        "colab": {
          "base_uri": "https://localhost:8080/"
        },
        "id": "oS6sen_ZnuL7",
        "outputId": "6c2d126c-ad2b-4b8c-820a-d429de176f17"
      },
      "execution_count": null,
      "outputs": [
        {
          "output_type": "stream",
          "name": "stdout",
          "text": [
            "sin is [[ 0.6569866  -0.7568025   0.14112001]\n",
            " [ 0.98935825 -0.99999021 -0.2794155 ]]\n",
            "cos is [[ 0.75390225 -0.65364362 -0.9899925 ]\n",
            " [-0.14550003  0.0044257   0.96017029]]\n",
            "tan is [[ 8.71447983e-01  1.15782128e+00 -1.42546543e-01]\n",
            " [-6.79971146e+00 -2.25950846e+02 -2.91006191e-01]]\n"
          ]
        }
      ]
    },
    {
      "cell_type": "code",
      "source": [
        "print(np.arcsin(a) )    #arcsin of an array\n",
        "print(np.arccos(a) )    #arccos of an array\n",
        "print(np.arctan(a) )  #arctan of an array"
      ],
      "metadata": {
        "colab": {
          "base_uri": "https://localhost:8080/"
        },
        "id": "u59tjDmfoEv8",
        "outputId": "2da1499c-a566-415f-9157-19cd2f9d0dde"
      },
      "execution_count": null,
      "outputs": [
        {
          "output_type": "stream",
          "name": "stdout",
          "text": [
            "[[nan nan nan]\n",
            " [nan nan nan]]\n",
            "[[nan nan nan]\n",
            " [nan nan nan]]\n",
            "[[1.42889927 1.32581766 1.24904577]\n",
            " [1.44644133 1.48013644 1.40564765]]\n"
          ]
        },
        {
          "output_type": "stream",
          "name": "stderr",
          "text": [
            "<ipython-input-39-31da5842de1f>:1: RuntimeWarning: invalid value encountered in arcsin\n",
            "  print(np.arcsin(a) )    #arcsin of an array\n",
            "<ipython-input-39-31da5842de1f>:2: RuntimeWarning: invalid value encountered in arccos\n",
            "  print(np.arccos(a) )    #arccos of an array\n"
          ]
        }
      ]
    },
    {
      "cell_type": "code",
      "source": [
        "print(np.random.rand())\n",
        "print(np.random.randn())\n",
        "print(np.random.randint(5))\n",
        "print(np.random.shuffle([4,8,12,15]))"
      ],
      "metadata": {
        "colab": {
          "base_uri": "https://localhost:8080/"
        },
        "id": "IWF7oJMVoKZs",
        "outputId": "f187a576-e342-468d-83df-258f190c8dd6"
      },
      "execution_count": null,
      "outputs": [
        {
          "output_type": "stream",
          "name": "stdout",
          "text": [
            "0.4236547993389047\n",
            "-0.8427240538292873\n",
            "0\n",
            "None\n"
          ]
        }
      ]
    },
    {
      "cell_type": "code",
      "source": [
        "import numpy as np\n",
        "f = np.array([(9,8,7), (4,5,6)], dtype = int)\n",
        "g = np.array([(1,2,3), (3,5,8)], dtype = int)\n",
        "print(np.add(f,g))  #add the array element\n",
        "print(np.subtract(f,g)  )#subtract the array element\n",
        "print(np.multiply(f,g))  #multiply the array element\n",
        "print(np.divide(f,g))  #divide the array element"
      ],
      "metadata": {
        "colab": {
          "base_uri": "https://localhost:8080/"
        },
        "id": "SK8RNNXdoQkH",
        "outputId": "e899edd9-4a85-4e5e-ac0a-4d3ed375ea0a"
      },
      "execution_count": null,
      "outputs": [
        {
          "output_type": "stream",
          "name": "stdout",
          "text": [
            "[[10 10 10]\n",
            " [ 7 10 14]]\n",
            "[[ 8  6  4]\n",
            " [ 1  0 -2]]\n",
            "[[ 9 16 21]\n",
            " [12 25 48]]\n",
            "[[9.         4.         2.33333333]\n",
            " [1.33333333 1.         0.75      ]]\n"
          ]
        }
      ]
    }
  ]
}