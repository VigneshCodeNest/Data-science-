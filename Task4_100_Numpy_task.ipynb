{
  "cells": [
    {
      "cell_type": "markdown",
      "metadata": {
        "id": "view-in-github",
        "colab_type": "text"
      },
      "source": [
        "<a href=\"https://colab.research.google.com/github/VigneshCodeNest/Data-science-/blob/main/Task4_100_Numpy_task.ipynb\" target=\"_parent\"><img src=\"https://colab.research.google.com/assets/colab-badge.svg\" alt=\"Open In Colab\"/></a>"
      ]
    },
    {
      "cell_type": "markdown",
      "metadata": {
        "id": "f44a2f2b"
      },
      "source": [
        "# 100 numpy exercises\n"
      ],
      "id": "f44a2f2b"
    },
    {
      "cell_type": "markdown",
      "metadata": {
        "id": "0fe3d529"
      },
      "source": [
        "File automatically generated. See the documentation to update questions/answers/hints programmatically."
      ],
      "id": "0fe3d529"
    },
    {
      "cell_type": "markdown",
      "metadata": {
        "id": "23296a93"
      },
      "source": [
        "Run the `initialize.py` module, then for each question you can query the\n",
        "answer or an hint with `hint(n)` or `answer(n)` for `n` question number."
      ],
      "id": "23296a93"
    },
    {
      "cell_type": "code",
      "execution_count": null,
      "metadata": {
        "id": "530390cf"
      },
      "outputs": [],
      "source": [
        "%run initialise.py"
      ],
      "id": "530390cf"
    },
    {
      "cell_type": "markdown",
      "metadata": {
        "id": "96443564"
      },
      "source": [
        "#### 1. Import the numpy package under the name `np` (★☆☆)"
      ],
      "id": "96443564"
    },
    {
      "cell_type": "code",
      "execution_count": null,
      "metadata": {
        "id": "ffe1047e"
      },
      "outputs": [],
      "source": [
        "import numpy as np"
      ],
      "id": "ffe1047e"
    },
    {
      "cell_type": "markdown",
      "metadata": {
        "id": "c807bf1d"
      },
      "source": [
        "#### 2. Print the numpy version and the configuration (★☆☆)"
      ],
      "id": "c807bf1d"
    },
    {
      "cell_type": "code",
      "execution_count": null,
      "metadata": {
        "colab": {
          "base_uri": "https://localhost:8080/"
        },
        "id": "f396b717",
        "outputId": "50fadd97-ddc4-419b-93ce-1c7f94151c61"
      },
      "outputs": [
        {
          "name": "stdout",
          "output_type": "stream",
          "text": [
            "1.23.5\n",
            "openblas64__info:\n",
            "    libraries = ['openblas64_', 'openblas64_']\n",
            "    library_dirs = ['/usr/local/lib']\n",
            "    language = c\n",
            "    define_macros = [('HAVE_CBLAS', None), ('BLAS_SYMBOL_SUFFIX', '64_'), ('HAVE_BLAS_ILP64', None)]\n",
            "    runtime_library_dirs = ['/usr/local/lib']\n",
            "blas_ilp64_opt_info:\n",
            "    libraries = ['openblas64_', 'openblas64_']\n",
            "    library_dirs = ['/usr/local/lib']\n",
            "    language = c\n",
            "    define_macros = [('HAVE_CBLAS', None), ('BLAS_SYMBOL_SUFFIX', '64_'), ('HAVE_BLAS_ILP64', None)]\n",
            "    runtime_library_dirs = ['/usr/local/lib']\n",
            "openblas64__lapack_info:\n",
            "    libraries = ['openblas64_', 'openblas64_']\n",
            "    library_dirs = ['/usr/local/lib']\n",
            "    language = c\n",
            "    define_macros = [('HAVE_CBLAS', None), ('BLAS_SYMBOL_SUFFIX', '64_'), ('HAVE_BLAS_ILP64', None), ('HAVE_LAPACKE', None)]\n",
            "    runtime_library_dirs = ['/usr/local/lib']\n",
            "lapack_ilp64_opt_info:\n",
            "    libraries = ['openblas64_', 'openblas64_']\n",
            "    library_dirs = ['/usr/local/lib']\n",
            "    language = c\n",
            "    define_macros = [('HAVE_CBLAS', None), ('BLAS_SYMBOL_SUFFIX', '64_'), ('HAVE_BLAS_ILP64', None), ('HAVE_LAPACKE', None)]\n",
            "    runtime_library_dirs = ['/usr/local/lib']\n",
            "Supported SIMD extensions in this NumPy install:\n",
            "    baseline = SSE,SSE2,SSE3\n",
            "    found = SSSE3,SSE41,POPCNT,SSE42,AVX,F16C,FMA3,AVX2\n",
            "    not found = AVX512F,AVX512CD,AVX512_KNL,AVX512_KNM,AVX512_SKX,AVX512_CLX,AVX512_CNL,AVX512_ICL\n"
          ]
        }
      ],
      "source": [
        "print(np.__version__)\n",
        "np.__config__.show()"
      ],
      "id": "f396b717"
    },
    {
      "cell_type": "markdown",
      "metadata": {
        "id": "572c1bdb"
      },
      "source": [
        "#### 3. Create a null vector of size 10 (★☆☆)"
      ],
      "id": "572c1bdb"
    },
    {
      "cell_type": "code",
      "execution_count": null,
      "metadata": {
        "colab": {
          "base_uri": "https://localhost:8080/"
        },
        "id": "31c9f6a5",
        "outputId": "abde1723-d174-4585-f340-0bc1ae86bc1b"
      },
      "outputs": [
        {
          "name": "stdout",
          "output_type": "stream",
          "text": [
            "[0. 0. 0. 0. 0. 0. 0. 0. 0. 0.]\n"
          ]
        }
      ],
      "source": [
        "Z= np.zeros(10)\n",
        "print (Z)"
      ],
      "id": "31c9f6a5"
    },
    {
      "cell_type": "markdown",
      "metadata": {
        "id": "337e6e36"
      },
      "source": [
        "#### 4. How to find the memory size of any array (★☆☆)"
      ],
      "id": "337e6e36"
    },
    {
      "cell_type": "code",
      "execution_count": null,
      "metadata": {
        "colab": {
          "base_uri": "https://localhost:8080/"
        },
        "id": "31e8ec2e",
        "outputId": "01748397-12d7-43df-ec98-724839d28c65"
      },
      "outputs": [
        {
          "data": {
            "text/plain": [
              "5"
            ]
          },
          "execution_count": 22,
          "metadata": {},
          "output_type": "execute_result"
        }
      ],
      "source": [
        "a=[1,2,3,4,5]\n",
        "len(a)"
      ],
      "id": "31e8ec2e"
    },
    {
      "cell_type": "markdown",
      "metadata": {
        "id": "166079c8"
      },
      "source": [
        "#### 5. How to get the documentation of the numpy add function from the command line? (★☆☆)"
      ],
      "id": "166079c8"
    },
    {
      "cell_type": "code",
      "execution_count": null,
      "metadata": {
        "colab": {
          "base_uri": "https://localhost:8080/"
        },
        "id": "593cd80f",
        "outputId": "cd069bd9-7e1d-493d-ef26-36cdaa894239"
      },
      "outputs": [
        {
          "name": "stdout",
          "output_type": "stream",
          "text": [
            "Help on ufunc:\n",
            "\n",
            "add = <ufunc 'add'>\n",
            "    add(x1, x2, /, out=None, *, where=True, casting='same_kind', order='K', dtype=None, subok=True[, signature, extobj])\n",
            "    \n",
            "    Add arguments element-wise.\n",
            "    \n",
            "    Parameters\n",
            "    ----------\n",
            "    x1, x2 : array_like\n",
            "        The arrays to be added.\n",
            "        If ``x1.shape != x2.shape``, they must be broadcastable to a common\n",
            "        shape (which becomes the shape of the output).\n",
            "    out : ndarray, None, or tuple of ndarray and None, optional\n",
            "        A location into which the result is stored. If provided, it must have\n",
            "        a shape that the inputs broadcast to. If not provided or None,\n",
            "        a freshly-allocated array is returned. A tuple (possible only as a\n",
            "        keyword argument) must have length equal to the number of outputs.\n",
            "    where : array_like, optional\n",
            "        This condition is broadcast over the input. At locations where the\n",
            "        condition is True, the `out` array will be set to the ufunc result.\n",
            "        Elsewhere, the `out` array will retain its original value.\n",
            "        Note that if an uninitialized `out` array is created via the default\n",
            "        ``out=None``, locations within it where the condition is False will\n",
            "        remain uninitialized.\n",
            "    **kwargs\n",
            "        For other keyword-only arguments, see the\n",
            "        :ref:`ufunc docs <ufuncs.kwargs>`.\n",
            "    \n",
            "    Returns\n",
            "    -------\n",
            "    add : ndarray or scalar\n",
            "        The sum of `x1` and `x2`, element-wise.\n",
            "        This is a scalar if both `x1` and `x2` are scalars.\n",
            "    \n",
            "    Notes\n",
            "    -----\n",
            "    Equivalent to `x1` + `x2` in terms of array broadcasting.\n",
            "    \n",
            "    Examples\n",
            "    --------\n",
            "    >>> np.add(1.0, 4.0)\n",
            "    5.0\n",
            "    >>> x1 = np.arange(9.0).reshape((3, 3))\n",
            "    >>> x2 = np.arange(3.0)\n",
            "    >>> np.add(x1, x2)\n",
            "    array([[  0.,   2.,   4.],\n",
            "           [  3.,   5.,   7.],\n",
            "           [  6.,   8.,  10.]])\n",
            "    \n",
            "    The ``+`` operator can be used as a shorthand for ``np.add`` on ndarrays.\n",
            "    \n",
            "    >>> x1 = np.arange(9.0).reshape((3, 3))\n",
            "    >>> x2 = np.arange(3.0)\n",
            "    >>> x1 + x2\n",
            "    array([[ 0.,  2.,  4.],\n",
            "           [ 3.,  5.,  7.],\n",
            "           [ 6.,  8., 10.]])\n",
            "\n"
          ]
        }
      ],
      "source": [
        "import numpy as np\n",
        "help(np.add)"
      ],
      "id": "593cd80f"
    },
    {
      "cell_type": "markdown",
      "metadata": {
        "id": "3add7101"
      },
      "source": [
        "#### 6. Create a null vector of size 10 but the fifth value which is 1 (★☆☆)"
      ],
      "id": "3add7101"
    },
    {
      "cell_type": "code",
      "execution_count": null,
      "metadata": {
        "colab": {
          "base_uri": "https://localhost:8080/"
        },
        "id": "2edf3c42",
        "outputId": "4c2d8a28-b785-4854-d368-c1a71e5ca151"
      },
      "outputs": [
        {
          "name": "stdout",
          "output_type": "stream",
          "text": [
            "[0. 0. 0. 0. 1. 0. 0. 0. 0. 0.]\n"
          ]
        }
      ],
      "source": [
        "Z= np.zeros(10)\n",
        "Z[4]=1\n",
        "print (Z)"
      ],
      "id": "2edf3c42"
    },
    {
      "cell_type": "markdown",
      "metadata": {
        "id": "cfc46304"
      },
      "source": [
        "#### 7. Create a vector with values ranging from 10 to 49 (★☆☆)"
      ],
      "id": "cfc46304"
    },
    {
      "cell_type": "code",
      "execution_count": null,
      "metadata": {
        "colab": {
          "base_uri": "https://localhost:8080/"
        },
        "id": "d8b86640",
        "outputId": "55aecfeb-65c9-4f63-9fa6-44d6ea65b6a6"
      },
      "outputs": [
        {
          "name": "stdout",
          "output_type": "stream",
          "text": [
            "[10 11 12 13 14 15 16 17 18 19 20 21 22 23 24 25 26 27 28 29 30 31 32 33\n",
            " 34 35 36 37 38 39 40 41 42 43 44 45 46 47 48 49]\n"
          ]
        }
      ],
      "source": [
        "import numpy as np\n",
        "my_vector = np.arange(10, 50)\n",
        "print(my_vector)"
      ],
      "id": "d8b86640"
    },
    {
      "cell_type": "markdown",
      "metadata": {
        "id": "0cc200be"
      },
      "source": [
        "#### 8. Reverse a vector (first element becomes last) (★☆☆)"
      ],
      "id": "0cc200be"
    },
    {
      "cell_type": "code",
      "execution_count": null,
      "metadata": {
        "colab": {
          "base_uri": "https://localhost:8080/"
        },
        "id": "ec044bb5",
        "outputId": "69cad137-0d06-4cb3-d899-d61a92c54432"
      },
      "outputs": [
        {
          "name": "stdout",
          "output_type": "stream",
          "text": [
            "[49 48 47 46 45 44 43 42 41 40 39 38 37 36 35 34 33 32 31 30 29 28 27 26\n",
            " 25 24 23 22 21 20 19 18 17 16 15 14 13 12 11 10]\n"
          ]
        }
      ],
      "source": [
        "Z = np.arange(10,50)\n",
        "Z= Z[::-1]\n",
        "print (Z)"
      ],
      "id": "ec044bb5"
    },
    {
      "cell_type": "markdown",
      "metadata": {
        "id": "29d9ede4"
      },
      "source": [
        "#### 9. Create a 3x3 matrix with values ranging from 0 to 8 (★☆☆)"
      ],
      "id": "29d9ede4"
    },
    {
      "cell_type": "code",
      "execution_count": null,
      "metadata": {
        "colab": {
          "base_uri": "https://localhost:8080/"
        },
        "id": "d9e39043",
        "outputId": "c6fde9fc-fdb9-49de-d0ba-6478a4da55f0"
      },
      "outputs": [
        {
          "name": "stdout",
          "output_type": "stream",
          "text": [
            "[[0 1 2]\n",
            " [3 4 5]\n",
            " [6 7 8]]\n"
          ]
        }
      ],
      "source": [
        "my_matrix = np.arange(9).reshape((3, 3))\n",
        "print(my_matrix)"
      ],
      "id": "d9e39043"
    },
    {
      "cell_type": "markdown",
      "metadata": {
        "id": "88905ceb"
      },
      "source": [
        "#### 10. Find indices of non-zero elements from [1,2,0,0,4,0] (★☆☆)"
      ],
      "id": "88905ceb"
    },
    {
      "cell_type": "code",
      "execution_count": null,
      "metadata": {
        "colab": {
          "base_uri": "https://localhost:8080/"
        },
        "id": "b2f3c90a",
        "outputId": "a0157bcf-55e7-418a-cb08-68ea70c3f96c"
      },
      "outputs": [
        {
          "name": "stdout",
          "output_type": "stream",
          "text": [
            "Indices of non-zero elements: (array([0, 1, 4]),)\n"
          ]
        }
      ],
      "source": [
        "import numpy as np\n",
        "my_list = [1, 2, 0, 0, 4, 0]\n",
        "my_array = np.array(my_list)\n",
        "nonzero_indices = np.nonzero(my_array)\n",
        "print(\"Indices of non-zero elements:\", nonzero_indices)"
      ],
      "id": "b2f3c90a"
    },
    {
      "cell_type": "markdown",
      "metadata": {
        "id": "49603e91"
      },
      "source": [
        "#### 11. Create a 3x3 identity matrix (★☆☆)"
      ],
      "id": "49603e91"
    },
    {
      "cell_type": "code",
      "execution_count": null,
      "metadata": {
        "colab": {
          "base_uri": "https://localhost:8080/"
        },
        "id": "5b607b5c",
        "outputId": "7e5c4bcb-e6ca-48e6-8115-4aeadb1524ae"
      },
      "outputs": [
        {
          "name": "stdout",
          "output_type": "stream",
          "text": [
            "[[1. 0. 0.]\n",
            " [0. 1. 0.]\n",
            " [0. 0. 1.]]\n"
          ]
        }
      ],
      "source": [
        "Z= np.eye(3)\n",
        "print (Z)"
      ],
      "id": "5b607b5c"
    },
    {
      "cell_type": "markdown",
      "metadata": {
        "id": "e15c249a"
      },
      "source": [
        "#### 12. Create a 3x3x3 array with random values (★☆☆)"
      ],
      "id": "e15c249a"
    },
    {
      "cell_type": "code",
      "execution_count": null,
      "metadata": {
        "colab": {
          "base_uri": "https://localhost:8080/"
        },
        "id": "ab21ed50",
        "outputId": "5f8786d7-d58b-4ec7-8173-e10977f55e87"
      },
      "outputs": [
        {
          "name": "stdout",
          "output_type": "stream",
          "text": [
            "[1.24998206 1.84851639 2.92274998]\n"
          ]
        }
      ],
      "source": [
        "Z = np.random.uniform((3,3,3))\n",
        "print (Z)"
      ],
      "id": "ab21ed50"
    },
    {
      "cell_type": "markdown",
      "metadata": {
        "id": "157a129c"
      },
      "source": [
        "#### 13. Create a 10x10 array with random values and find the minimum and maximum values (★☆☆)"
      ],
      "id": "157a129c"
    },
    {
      "cell_type": "code",
      "execution_count": null,
      "metadata": {
        "colab": {
          "base_uri": "https://localhost:8080/"
        },
        "id": "c0066de5",
        "outputId": "4b064f91-3ebc-41ff-d8ee-6d4cf3ff8541"
      },
      "outputs": [
        {
          "name": "stdout",
          "output_type": "stream",
          "text": [
            "0.006190095401410134 0.9955451600009695\n"
          ]
        }
      ],
      "source": [
        "Z = np.random.random((10,10))\n",
        "Zmin, Zmax = Z.min(), Z.max()\n",
        "print(Zmin, Zmax)"
      ],
      "id": "c0066de5"
    },
    {
      "cell_type": "markdown",
      "metadata": {
        "id": "d92d7b32"
      },
      "source": [
        "#### 14. Create a random vector of size 30 and find the mean value (★☆☆)"
      ],
      "id": "d92d7b32"
    },
    {
      "cell_type": "code",
      "execution_count": null,
      "metadata": {
        "colab": {
          "base_uri": "https://localhost:8080/"
        },
        "id": "9672d023",
        "outputId": "2cd0e715-35cc-411a-9fc2-c3abf82c9fee"
      },
      "outputs": [
        {
          "data": {
            "text/plain": [
              "0.4577639165503922"
            ]
          },
          "execution_count": 20,
          "metadata": {},
          "output_type": "execute_result"
        }
      ],
      "source": [
        "Z = np.random.random(30)\n",
        "Z.mean()"
      ],
      "id": "9672d023"
    },
    {
      "cell_type": "markdown",
      "metadata": {
        "id": "f361efc0"
      },
      "source": [
        "#### 15. Create a 2d array with 1 on the border and 0 inside (★☆☆)"
      ],
      "id": "f361efc0"
    },
    {
      "cell_type": "code",
      "execution_count": null,
      "metadata": {
        "id": "a55b6666"
      },
      "outputs": [],
      "source": [
        "\n",
        "Z = np.ones((10,10))\n",
        "Z[1:-1,1:-1]=0"
      ],
      "id": "a55b6666"
    },
    {
      "cell_type": "markdown",
      "metadata": {
        "id": "475808cb"
      },
      "source": [
        "#### 16. How to add a border (filled with 0's) around an existing array? (★☆☆)"
      ],
      "id": "475808cb"
    },
    {
      "cell_type": "code",
      "execution_count": null,
      "metadata": {
        "colab": {
          "base_uri": "https://localhost:8080/"
        },
        "id": "b2df3a8a",
        "outputId": "f9afbb7b-758b-4d16-bf49-41ba73876d79"
      },
      "outputs": [
        {
          "name": "stdout",
          "output_type": "stream",
          "text": [
            "Original Array:\n",
            "[[1 2 3]\n",
            " [4 5 6]\n",
            " [7 8 9]]\n",
            "\n",
            "Array with Border:\n",
            "[[0 0 0 0 0]\n",
            " [0 1 2 3 0]\n",
            " [0 4 5 6 0]\n",
            " [0 7 8 9 0]\n",
            " [0 0 0 0 0]]\n"
          ]
        }
      ],
      "source": [
        "import numpy as\n",
        "original_array = np.array([[1, 2, 3],[4, 5, 6],[7, 8, 9]])\n",
        "rows, cols = original_array.shape\n",
        "larger_array = np.zeros((rows + 2, cols + 2), dtype=original_array.dtype)\n",
        "larger_array[1:-1, 1:-1] = original_array\n",
        "print(\"Original Array:\")\n",
        "print(original_array)\n",
        "print(\"\\nArray with Border:\")\n",
        "print(larger_array)"
      ],
      "id": "b2df3a8a"
    },
    {
      "cell_type": "markdown",
      "metadata": {
        "id": "1af07d85"
      },
      "source": [
        "#### 17. What is the result of the following expression? (★☆☆)\n",
        "```python\n",
        "0 * np.nan\n",
        "np.nan == np.nan\n",
        "np.inf > np.nan\n",
        "np.nan - np.nan\n",
        "np.nan in set([np.nan])\n",
        "0.3 == 3 * 0.1\n",
        "```"
      ],
      "id": "1af07d85"
    },
    {
      "cell_type": "code",
      "source": [
        "\n",
        "{\n",
        "    '0 * np.nan': nan,\n",
        "    'np.nan == np.nan': False,\n",
        "    'np.inf > np.nan': False,\n",
        "    'np.nan - np.nan': nan,\n",
        "    'np.nan in set([np.nan])': True,\n",
        "    '0.3 == 3 * 0.1': True\n",
        "}"
      ],
      "metadata": {
        "id": "MznwuitKhCH1"
      },
      "id": "MznwuitKhCH1",
      "execution_count": null,
      "outputs": []
    },
    {
      "cell_type": "markdown",
      "metadata": {
        "id": "6a235316"
      },
      "source": [
        "#### 18. Create a 5x5 matrix with values 1,2,3,4 just below the diagonal (★☆☆)"
      ],
      "id": "6a235316"
    },
    {
      "cell_type": "code",
      "execution_count": null,
      "metadata": {
        "colab": {
          "base_uri": "https://localhost:8080/"
        },
        "id": "f2e6cfa6",
        "outputId": "d6f9414d-0913-41fa-a9e1-b12886deb271"
      },
      "outputs": [
        {
          "name": "stdout",
          "output_type": "stream",
          "text": [
            "[[0 0 0 0 0]\n",
            " [1 0 0 0 0]\n",
            " [0 2 0 0 0]\n",
            " [0 0 3 0 0]\n",
            " [0 0 0 4 0]]\n"
          ]
        }
      ],
      "source": [
        "Z = np.diag(1+np.arange(4), k = -1)\n",
        "print (Z)"
      ],
      "id": "f2e6cfa6"
    },
    {
      "cell_type": "markdown",
      "metadata": {
        "id": "25362e98"
      },
      "source": [
        "#### 19. Create a 8x8 matrix and fill it with a checkerboard pattern (★☆☆)"
      ],
      "id": "25362e98"
    },
    {
      "cell_type": "code",
      "execution_count": null,
      "metadata": {
        "colab": {
          "base_uri": "https://localhost:8080/"
        },
        "id": "cabdf298",
        "outputId": "7255ebff-effe-48f7-8e2d-9139655e499e"
      },
      "outputs": [
        {
          "name": "stdout",
          "output_type": "stream",
          "text": [
            "[[0 1 0 1 0 1 0 1]\n",
            " [1 0 1 0 1 0 1 0]\n",
            " [0 1 0 1 0 1 0 1]\n",
            " [1 0 1 0 1 0 1 0]\n",
            " [0 1 0 1 0 1 0 1]\n",
            " [1 0 1 0 1 0 1 0]\n",
            " [0 1 0 1 0 1 0 1]\n",
            " [1 0 1 0 1 0 1 0]]\n"
          ]
        }
      ],
      "source": [
        "Z = np.zeros ((8,8), dtype=int)\n",
        "Z[1::2, ::2]= 1\n",
        "Z[::2, 1::2] = 1\n",
        "print (Z)"
      ],
      "id": "cabdf298"
    },
    {
      "cell_type": "markdown",
      "metadata": {
        "id": "6431e977"
      },
      "source": [
        "#### 20. Consider a (6,7,8) shape array, what is the index (x,y,z) of the 100th element? (★☆☆)"
      ],
      "id": "6431e977"
    },
    {
      "cell_type": "code",
      "execution_count": null,
      "metadata": {
        "colab": {
          "base_uri": "https://localhost:8080/"
        },
        "id": "de8b0245",
        "outputId": "0d78f824-4968-4c5c-90a3-852aa05444bb"
      },
      "outputs": [
        {
          "name": "stdout",
          "output_type": "stream",
          "text": [
            "(1, 5, 4)\n"
          ]
        }
      ],
      "source": [
        "print (np.unravel_index(100, (6,7,8)))"
      ],
      "id": "de8b0245"
    },
    {
      "cell_type": "markdown",
      "metadata": {
        "id": "31abe6fe"
      },
      "source": [
        "#### 21. Create a checkerboard 8x8 matrix using the tile function (★☆☆)"
      ],
      "id": "31abe6fe"
    },
    {
      "cell_type": "code",
      "execution_count": null,
      "metadata": {
        "colab": {
          "base_uri": "https://localhost:8080/"
        },
        "id": "6da26fd3",
        "outputId": "117dda38-a87d-48bf-fbb5-a86a930a9d2d"
      },
      "outputs": [
        {
          "name": "stdout",
          "output_type": "stream",
          "text": [
            "[[0 1 0 1 0 1 0 1]\n",
            " [1 0 1 0 1 0 1 0]\n",
            " [0 1 0 1 0 1 0 1]\n",
            " [1 0 1 0 1 0 1 0]\n",
            " [0 1 0 1 0 1 0 1]\n",
            " [1 0 1 0 1 0 1 0]\n",
            " [0 1 0 1 0 1 0 1]\n",
            " [1 0 1 0 1 0 1 0]]\n"
          ]
        }
      ],
      "source": [
        "array= np.array([[0,1], [1,0]])\n",
        "Z = np.tile(array,(4,4))\n",
        "print (Z)"
      ],
      "id": "6da26fd3"
    },
    {
      "cell_type": "markdown",
      "metadata": {
        "id": "fd88b3f4"
      },
      "source": [
        "#### 22. Normalize a 5x5 random matrix (★☆☆)"
      ],
      "id": "fd88b3f4"
    },
    {
      "cell_type": "code",
      "execution_count": null,
      "metadata": {
        "colab": {
          "base_uri": "https://localhost:8080/"
        },
        "id": "ee6ced60",
        "outputId": "07817b28-c308-4530-832a-97e5d88bb262"
      },
      "outputs": [
        {
          "name": "stdout",
          "output_type": "stream",
          "text": [
            "[[0.03494799 0.79729869 0.78996459 0.         0.57625181]\n",
            " [1.         0.40617539 0.3847605  0.94013674 0.052535  ]\n",
            " [0.95305408 0.04290579 0.37996164 0.89159307 0.932     ]\n",
            " [0.61558449 0.53634233 0.22119595 0.97286461 0.58971908]\n",
            " [0.46315834 0.89104637 0.95105974 0.37117572 0.24658018]]\n"
          ]
        }
      ],
      "source": [
        "Z = np.random.random((5,5))\n",
        "Zmax, Zmin = Z.max(), Z.min()\n",
        "Z= (Z-Zmin)/(Zmax-Zmin)\n",
        "print (Z)"
      ],
      "id": "ee6ced60"
    },
    {
      "cell_type": "markdown",
      "metadata": {
        "id": "464d8590"
      },
      "source": [
        "#### 23. Create a custom dtype that describes a color as four unsigned bytes (RGBA) (★☆☆)"
      ],
      "id": "464d8590"
    },
    {
      "cell_type": "code",
      "execution_count": null,
      "metadata": {
        "id": "e2f9cfc6"
      },
      "outputs": [],
      "source": [
        "import numpy as np\n",
        "rgba_dtype = np.dtype([\n",
        "    ('R', np.uint8),\n",
        "    ('G', np.uint8),\n",
        "    ('B', np.uint8),\n",
        "    ('A', np.uint8)\n",
        "])\n",
        "color_array = np.array([(255, 0, 0, 255),  (0, 255, 0, 255),(0, 0, 255, 255)],  dtype=rgba_dtype)\n",
        "print(color_array)"
      ],
      "id": "e2f9cfc6"
    },
    {
      "cell_type": "markdown",
      "metadata": {
        "id": "06c63bb3"
      },
      "source": [
        "#### 24. Multiply a 5x3 matrix by a 3x2 matrix (real matrix product) (★☆☆)"
      ],
      "id": "06c63bb3"
    },
    {
      "cell_type": "code",
      "execution_count": null,
      "metadata": {
        "colab": {
          "base_uri": "https://localhost:8080/"
        },
        "id": "9fc0d553",
        "outputId": "f72367ba-84a9-4942-cc55-2585edc5ce9b"
      },
      "outputs": [
        {
          "name": "stdout",
          "output_type": "stream",
          "text": [
            "[[3. 3.]\n",
            " [3. 3.]\n",
            " [3. 3.]\n",
            " [3. 3.]\n",
            " [3. 3.]]\n"
          ]
        }
      ],
      "source": [
        "Z= np.dot(np.ones((5,3)), np.ones((3,2)))\n",
        "print (Z)"
      ],
      "id": "9fc0d553"
    },
    {
      "cell_type": "markdown",
      "metadata": {
        "id": "76fa6285"
      },
      "source": [
        "#### 25. Given a 1D array, negate all elements which are between 3 and 8, in place. (★☆☆)"
      ],
      "id": "76fa6285"
    },
    {
      "cell_type": "code",
      "execution_count": null,
      "metadata": {
        "colab": {
          "base_uri": "https://localhost:8080/"
        },
        "id": "0e25eca7",
        "outputId": "9b20a337-3b34-4feb-add0-aa1ebeef61d5"
      },
      "outputs": [
        {
          "name": "stdout",
          "output_type": "stream",
          "text": [
            "[3 4 5 6 7]\n"
          ]
        }
      ],
      "source": [
        "import numpy as np\n",
        "print(np.arange(3,8))"
      ],
      "id": "0e25eca7"
    },
    {
      "cell_type": "markdown",
      "metadata": {
        "id": "930ed8bb"
      },
      "source": [
        "#### 26. What is the output of the following script? (★☆☆)\n",
        "```python\n",
        "# Author: Jake VanderPlas\n",
        "\n",
        "print(sum(range(5),-1))\n",
        "from numpy import *\n",
        "print(sum(range(5),-1))\n",
        "```"
      ],
      "id": "930ed8bb"
    },
    {
      "cell_type": "code",
      "execution_count": null,
      "metadata": {
        "id": "f02eedba"
      },
      "outputs": [],
      "source": [
        "\n",
        "9\n",
        "[10]"
      ],
      "id": "f02eedba"
    },
    {
      "cell_type": "markdown",
      "metadata": {
        "id": "177120e7"
      },
      "source": [
        "#### 27. Consider an integer vector Z, which of these expressions are legal? (★☆☆)\n",
        "```python\n",
        "Z**Z\n",
        "2 << Z >> 2\n",
        "Z <- Z\n",
        "1j*Z\n",
        "Z/1/1\n",
        "Z<Z>Z\n",
        "```"
      ],
      "id": "177120e7"
    },
    {
      "cell_type": "code",
      "execution_count": null,
      "metadata": {
        "id": "86d6cbef"
      },
      "outputs": [],
      "source": [
        " < a27\n",
        "Z**Z\n",
        "2 << Z >> 2\n",
        "Z <- Z\n",
        "1j*Z\n",
        "Z/1/1\n",
        "Z<Z>Z"
      ],
      "id": "86d6cbef"
    },
    {
      "cell_type": "markdown",
      "metadata": {
        "id": "a6eaf0e8"
      },
      "source": [
        "#### 28. What are the result of the following expressions? (★☆☆)\n",
        "```python\n",
        "np.array(0) / np.array(0)\n",
        "np.array(0) // np.array(0)\n",
        "np.array([np.nan]).astype(int).astype(float)\n",
        "```"
      ],
      "id": "a6eaf0e8"
    },
    {
      "cell_type": "code",
      "execution_count": null,
      "metadata": {
        "id": "93684068"
      },
      "outputs": [],
      "source": [
        "\n",
        "{\n",
        "    'np.array(0) / np.array(0)': nan,\n",
        "    'np.array(0) // np.array(0)': 0,\n",
        "    'np.array([np.nan]).astype(int).astype(float)': array([-9.22337204e+18])\n",
        "}"
      ],
      "id": "93684068"
    },
    {
      "cell_type": "markdown",
      "metadata": {
        "id": "524b65f8"
      },
      "source": [
        "#### 29. How to round away from zero a float array ? (★☆☆)"
      ],
      "id": "524b65f8"
    },
    {
      "cell_type": "code",
      "execution_count": null,
      "metadata": {
        "colab": {
          "base_uri": "https://localhost:8080/"
        },
        "id": "61fbb78e",
        "outputId": "daaad710-692d-4cba-8bb8-d8a1715215aa"
      },
      "outputs": [
        {
          "name": "stdout",
          "output_type": "stream",
          "text": [
            "[  4. -10.   1.   5.  -4.   3.  -2.  -9.   1.   4.]\n"
          ]
        }
      ],
      "source": [
        "Z = np.random.uniform(-10,+10,10)\n",
        "print(np.copysign(np.ceil(np.abs(Z)), Z))"
      ],
      "id": "61fbb78e"
    },
    {
      "cell_type": "markdown",
      "metadata": {
        "id": "8dc40752"
      },
      "source": [
        "#### 30. How to find common values between two arrays? (★☆☆)"
      ],
      "id": "8dc40752"
    },
    {
      "cell_type": "code",
      "execution_count": null,
      "metadata": {
        "colab": {
          "base_uri": "https://localhost:8080/"
        },
        "id": "54399cbe",
        "outputId": "0920b0ce-c748-4a1c-ed05-4a897252e27a"
      },
      "outputs": [
        {
          "name": "stdout",
          "output_type": "stream",
          "text": [
            "[0 3 6]\n"
          ]
        }
      ],
      "source": [
        "Z1 = np.random.randint(0,10,10)\n",
        "Z2 = np.random.randint(0,10,10)\n",
        "print(np.intersect1d(Z1,Z2))"
      ],
      "id": "54399cbe"
    },
    {
      "cell_type": "markdown",
      "metadata": {
        "id": "b7f38e21"
      },
      "source": [
        "#### 31. How to ignore all numpy warnings (not recommended)? (★☆☆)"
      ],
      "id": "b7f38e21"
    },
    {
      "cell_type": "code",
      "execution_count": null,
      "metadata": {
        "id": "2ca3289c"
      },
      "outputs": [],
      "source": [
        "defaults = np.seterr(all=\"ignore\")\n",
        "Z = np.ones(1) / 0"
      ],
      "id": "2ca3289c"
    },
    {
      "cell_type": "markdown",
      "metadata": {
        "id": "2d850aab"
      },
      "source": [
        "#### 32. Is the following expressions true? (★☆☆)\n",
        "```python\n",
        "np.sqrt(-1) == np.emath.sqrt(-1)\n",
        "```"
      ],
      "id": "2d850aab"
    },
    {
      "cell_type": "code",
      "execution_count": null,
      "metadata": {
        "id": "5c83ffce"
      },
      "outputs": [],
      "source": [
        "False"
      ],
      "id": "5c83ffce"
    },
    {
      "cell_type": "markdown",
      "metadata": {
        "id": "5c4a556f"
      },
      "source": [
        "#### 33. How to get the dates of yesterday, today and tomorrow? (★☆☆)"
      ],
      "id": "5c4a556f"
    },
    {
      "cell_type": "code",
      "execution_count": null,
      "metadata": {
        "id": "c3b683a0"
      },
      "outputs": [],
      "source": [
        "yesterday = np.datetime64('today') - np.timedelta64(1)\n",
        "today     = np.datetime64('today')\n",
        "tomorrow  = np.datetime64('today') + np.timedelta64(1)"
      ],
      "id": "c3b683a0"
    },
    {
      "cell_type": "markdown",
      "metadata": {
        "id": "453cdd64"
      },
      "source": [
        "#### 34. How to get all the dates corresponding to the month of July 2016? (★★☆)"
      ],
      "id": "453cdd64"
    },
    {
      "cell_type": "code",
      "execution_count": null,
      "metadata": {
        "colab": {
          "base_uri": "https://localhost:8080/"
        },
        "id": "4ba4d37c",
        "outputId": "0319d2ef-9f78-46d7-c7ce-2fe755e53aad"
      },
      "outputs": [
        {
          "name": "stdout",
          "output_type": "stream",
          "text": [
            "['2016-07-01' '2016-07-02' '2016-07-03' '2016-07-04' '2016-07-05'\n",
            " '2016-07-06' '2016-07-07' '2016-07-08' '2016-07-09' '2016-07-10'\n",
            " '2016-07-11' '2016-07-12' '2016-07-13' '2016-07-14' '2016-07-15'\n",
            " '2016-07-16' '2016-07-17' '2016-07-18' '2016-07-19' '2016-07-20'\n",
            " '2016-07-21' '2016-07-22' '2016-07-23' '2016-07-24' '2016-07-25'\n",
            " '2016-07-26' '2016-07-27' '2016-07-28' '2016-07-29' '2016-07-30'\n",
            " '2016-07-31']\n"
          ]
        }
      ],
      "source": [
        "Z = np.arange('2016-07', '2016-08', dtype='datetime64[D]')\n",
        "print(Z)"
      ],
      "id": "4ba4d37c"
    },
    {
      "cell_type": "markdown",
      "metadata": {
        "id": "52667b6e"
      },
      "source": [
        "#### 35. How to compute ((A+B)*(-A/2)) in place (without copy)? (★★☆)"
      ],
      "id": "52667b6e"
    },
    {
      "cell_type": "code",
      "execution_count": null,
      "metadata": {
        "colab": {
          "base_uri": "https://localhost:8080/"
        },
        "id": "e6e7c030",
        "outputId": "087cfa88-727d-49e5-ea3f-068e9b7cb8ac"
      },
      "outputs": [
        {
          "data": {
            "text/plain": [
              "array([-1.5, -1.5, -1.5])"
            ]
          },
          "execution_count": 16,
          "metadata": {},
          "output_type": "execute_result"
        }
      ],
      "source": [
        "A = np.ones(3)*1\n",
        "B = np.ones(3)*2\n",
        "np.add(A,B,out=B)\n",
        "np.divide(A,2,out=A)\n",
        "np.negative(A,out=A)\n",
        "np.multiply(A,B,out=A)\n"
      ],
      "id": "e6e7c030"
    },
    {
      "cell_type": "markdown",
      "metadata": {
        "id": "9a8f3738"
      },
      "source": [
        "#### 36. Extract the integer part of a random array of positive numbers using 4 different methods (★★☆)"
      ],
      "id": "9a8f3738"
    },
    {
      "cell_type": "code",
      "execution_count": null,
      "metadata": {
        "colab": {
          "base_uri": "https://localhost:8080/"
        },
        "id": "368a801a",
        "outputId": "4eb534b3-901f-4205-ab55-5a758ef544e8"
      },
      "outputs": [
        {
          "output_type": "stream",
          "name": "stdout",
          "text": [
            "Original Array: [9.81122473 5.77935744 7.18849925 5.19716943 8.24678837]\n",
            "Integer Part (floor()): [9. 5. 7. 5. 8.]\n",
            "Integer Part (trunc()): [9. 5. 7. 5. 8.]\n",
            "Integer Part (astype(int)): [9 5 7 5 8]\n",
            "Integer Part (around()): [10.  6.  7.  5.  8.]\n"
          ]
        }
      ],
      "source": [
        "\n",
        "import numpy as np\n",
        "\n",
        "# Generate a random array of positive numbers\n",
        "random_array = np.random.rand(5) * 10  # Adjust the size or scale as needed\n",
        "\n",
        "# Method 1: Using numpy.floor()\n",
        "integer_part_1 = np.floor(random_array)\n",
        "\n",
        "# Method 2: Using numpy.trunc()\n",
        "integer_part_2 = np.trunc(random_array)\n",
        "\n",
        "# Method 3: Using numpy.astype(int)\n",
        "integer_part_3 = random_array.astype(int)\n",
        "\n",
        "# Method 4: Using numpy.around() and setting decimals to 0\n",
        "integer_part_4 = np.around(random_array, decimals=0)\n",
        "\n",
        "# Print results\n",
        "print(\"Original Array:\", random_array)\n",
        "print(\"Integer Part (floor()):\", integer_part_1)\n",
        "print(\"Integer Part (trunc()):\", integer_part_2)\n",
        "print(\"Integer Part (astype(int)):\", integer_part_3)\n",
        "print(\"Integer Part (around()):\", integer_part_4)"
      ],
      "id": "368a801a"
    },
    {
      "cell_type": "code",
      "source": [],
      "metadata": {
        "id": "8WlSH1Oqjaq2"
      },
      "id": "8WlSH1Oqjaq2",
      "execution_count": null,
      "outputs": []
    },
    {
      "cell_type": "markdown",
      "metadata": {
        "id": "cab1eed1"
      },
      "source": [
        "#### 37. Create a 5x5 matrix with row values ranging from 0 to 4 (★★☆)"
      ],
      "id": "cab1eed1"
    },
    {
      "cell_type": "code",
      "execution_count": null,
      "metadata": {
        "colab": {
          "base_uri": "https://localhost:8080/"
        },
        "id": "f1b579ba",
        "outputId": "ca06adcd-1f1f-44f0-8acd-75dd6575ead3"
      },
      "outputs": [
        {
          "name": "stdout",
          "output_type": "stream",
          "text": [
            "[[0. 1. 2. 3. 4.]\n",
            " [0. 1. 2. 3. 4.]\n",
            " [0. 1. 2. 3. 4.]\n",
            " [0. 1. 2. 3. 4.]\n",
            " [0. 1. 2. 3. 4.]]\n"
          ]
        }
      ],
      "source": [
        "Z = np.zeros((5,5))\n",
        "Z += np.arange(5)\n",
        "print(Z)"
      ],
      "id": "f1b579ba"
    },
    {
      "cell_type": "markdown",
      "metadata": {
        "id": "cd0ce6b1"
      },
      "source": [
        "#### 38. Consider a generator function that generates 10 integers and use it to build an array (★☆☆)"
      ],
      "id": "cd0ce6b1"
    },
    {
      "cell_type": "code",
      "execution_count": null,
      "metadata": {
        "colab": {
          "base_uri": "https://localhost:8080/"
        },
        "id": "aab193a6",
        "outputId": "a3f527b8-4662-401e-d9d8-72446afef092"
      },
      "outputs": [
        {
          "name": "stdout",
          "output_type": "stream",
          "text": [
            "[0. 1. 2. 3. 4. 5. 6. 7. 8. 9.]\n"
          ]
        }
      ],
      "source": [
        "def generate():\n",
        "    for x in range(10):\n",
        "        yield x\n",
        "Z = np.fromiter(generate(),dtype=float,count=-1)\n",
        "print(Z)"
      ],
      "id": "aab193a6"
    },
    {
      "cell_type": "markdown",
      "metadata": {
        "id": "c4c942d1"
      },
      "source": [
        "#### 39. Create a vector of size 10 with values ranging from 0 to 1, both excluded (★★☆)"
      ],
      "id": "c4c942d1"
    },
    {
      "cell_type": "code",
      "execution_count": null,
      "metadata": {
        "colab": {
          "base_uri": "https://localhost:8080/"
        },
        "id": "e42eaa4b",
        "outputId": "4e5838d6-8cf2-4980-f8a0-22d753c2eb62"
      },
      "outputs": [
        {
          "name": "stdout",
          "output_type": "stream",
          "text": [
            "[0.09090909 0.18181818 0.27272727 0.36363636 0.45454545 0.54545455\n",
            " 0.63636364 0.72727273 0.81818182 0.90909091]\n"
          ]
        }
      ],
      "source": [
        "Z = np.linspace(0,1,11,endpoint=False)[1:]\n",
        "print(Z)\n"
      ],
      "id": "e42eaa4b"
    },
    {
      "cell_type": "markdown",
      "metadata": {
        "id": "9b3cb8d2"
      },
      "source": [
        "#### 40. Create a random vector of size 10 and sort it (★★☆)"
      ],
      "id": "9b3cb8d2"
    },
    {
      "cell_type": "code",
      "execution_count": null,
      "metadata": {
        "colab": {
          "base_uri": "https://localhost:8080/"
        },
        "id": "37d2b341",
        "outputId": "ed8f2508-7a98-4212-8296-df8e9c449766"
      },
      "outputs": [
        {
          "name": "stdout",
          "output_type": "stream",
          "text": [
            "[0.01662822 0.13420047 0.20545308 0.20785173 0.36250456 0.39198354\n",
            " 0.51203322 0.61281134 0.69417832 0.89545914]\n"
          ]
        }
      ],
      "source": [
        "Z = np.random.random(10)\n",
        "Z.sort()\n",
        "print(Z)\n"
      ],
      "id": "37d2b341"
    },
    {
      "cell_type": "markdown",
      "metadata": {
        "id": "2facfddc"
      },
      "source": [
        "#### 41. How to sum a small array faster than np.sum? (★★☆)"
      ],
      "id": "2facfddc"
    },
    {
      "cell_type": "code",
      "execution_count": null,
      "metadata": {
        "colab": {
          "base_uri": "https://localhost:8080/"
        },
        "id": "4bb8864f",
        "outputId": "dbb7b26c-7454-4f55-a23a-90abefd1154e"
      },
      "outputs": [
        {
          "data": {
            "text/plain": [
              "45"
            ]
          },
          "execution_count": 22,
          "metadata": {},
          "output_type": "execute_result"
        }
      ],
      "source": [
        "Z = np.arange(10)\n",
        "np.add.reduce(Z)\n"
      ],
      "id": "4bb8864f"
    },
    {
      "cell_type": "markdown",
      "metadata": {
        "id": "539cd2a5"
      },
      "source": [
        "#### 42. Consider two random array A and B, check if they are equal (★★☆)"
      ],
      "id": "539cd2a5"
    },
    {
      "cell_type": "code",
      "execution_count": null,
      "metadata": {
        "id": "5246d7bf"
      },
      "outputs": [],
      "source": [
        "A = np.random.randint(0,2,5)\n",
        "B = np.random.randint(0,2,5)\n"
      ],
      "id": "5246d7bf"
    },
    {
      "cell_type": "markdown",
      "metadata": {
        "id": "448f8274"
      },
      "source": [
        "#### 43. Make an array immutable (read-only) (★★☆)"
      ],
      "id": "448f8274"
    },
    {
      "cell_type": "code",
      "execution_count": null,
      "metadata": {
        "colab": {
          "base_uri": "https://localhost:8080/"
        },
        "id": "7cf2b3dd",
        "outputId": "1a5b2c3d-e2c7-4b66-f3f2-70d584fc8f93"
      },
      "outputs": [
        {
          "name": "stdout",
          "output_type": "stream",
          "text": [
            "[1 2 3 4 5]\n"
          ]
        }
      ],
      "source": [
        "import numpy as np\n",
        "\n",
        "\n",
        "my_array = np.array([1, 2, 3, 4, 5])\n",
        "\n",
        "\n",
        "my_array.flags.writeable = False\n",
        "\n",
        "\n",
        "\n",
        "print(my_array)"
      ],
      "id": "7cf2b3dd"
    },
    {
      "cell_type": "markdown",
      "metadata": {
        "id": "d7b7aaf3"
      },
      "source": [
        "#### 44. Consider a random 10x2 matrix representing cartesian coordinates, convert them to polar coordinates (★★☆)"
      ],
      "id": "d7b7aaf3"
    },
    {
      "cell_type": "code",
      "execution_count": null,
      "metadata": {
        "colab": {
          "base_uri": "https://localhost:8080/"
        },
        "id": "e2337585",
        "outputId": "3a5ab1c9-6484-4f55-ff7c-8828f139f69d"
      },
      "outputs": [
        {
          "name": "stdout",
          "output_type": "stream",
          "text": [
            "Cartesian Coordinates:\n",
            "[[1.78223762e-01 5.91287635e-01]\n",
            " [9.81268510e-01 1.16528066e-01]\n",
            " [3.56555661e-01 4.86217949e-01]\n",
            " [4.78965412e-01 3.18768128e-01]\n",
            " [9.44591400e-04 6.74518482e-01]\n",
            " [8.04375864e-01 1.37996079e-01]\n",
            " [9.03208280e-01 7.37865699e-01]\n",
            " [9.11346760e-01 5.48723012e-02]\n",
            " [5.24412443e-01 1.01400560e-01]\n",
            " [7.96665253e-01 2.84017213e-01]]\n",
            "\n",
            "Polar Coordinates:\n",
            "[[0.61756358 1.27804063]\n",
            " [0.98816329 0.11819893]\n",
            " [0.60294264 0.93805307]\n",
            " [0.57534423 0.58721856]\n",
            " [0.67451914 1.56939593]\n",
            " [0.8161271  0.16990275]\n",
            " [1.16628941 0.68498435]\n",
            " [0.9129972  0.06013752]\n",
            " [0.53412591 0.19100318]\n",
            " [0.84577852 0.34246043]]\n"
          ]
        }
      ],
      "source": [
        "import numpy as np\n",
        "\n",
        "# Create a random 10x2 matrix representing cartesian coordinates\n",
        "cartesian_coordinates = np.random.rand(10, 2)\n",
        "\n",
        "# Extract x and y coordinates\n",
        "x = cartesian_coordinates[:, 0]\n",
        "y = cartesian_coordinates[:, 1]\n",
        "\n",
        "# Convert to polar coordinates\n",
        "r = np.sqrt(x**2 + y**2)\n",
        "theta = np.arctan2(y, x)\n",
        "\n",
        "# Display the result\n",
        "polar_coordinates = np.column_stack((r, theta))\n",
        "print(\"Cartesian Coordinates:\")\n",
        "print(cartesian_coordinates)\n",
        "print(\"\\nPolar Coordinates:\")\n",
        "print(polar_coordinates)"
      ],
      "id": "e2337585"
    },
    {
      "cell_type": "markdown",
      "metadata": {
        "id": "a556027a"
      },
      "source": [
        "#### 45. Create random vector of size 10 and replace the maximum value by 0 (★★☆)"
      ],
      "id": "a556027a"
    },
    {
      "cell_type": "code",
      "execution_count": null,
      "metadata": {
        "colab": {
          "base_uri": "https://localhost:8080/"
        },
        "id": "9e07cb87",
        "outputId": "64773d15-e857-4f4b-c153-001b050758ec"
      },
      "outputs": [
        {
          "name": "stdout",
          "output_type": "stream",
          "text": [
            "Random Vector:\n",
            "[0.41650777 0.01160668 0.87287748 0.36139068 0.         0.35197681\n",
            " 0.44469649 0.83327297 0.27533459 0.111651  ]\n"
          ]
        }
      ],
      "source": [
        "import numpy as np\n",
        "\n",
        "# Create a random vector of size 10\n",
        "random_vector = np.random.rand(10)\n",
        "\n",
        "# Find the index of the maximum value\n",
        "max_index = np.argmax(random_vector)\n",
        "\n",
        "# Replace the maximum value with 0\n",
        "random_vector[max_index] = 0\n",
        "\n",
        "print(\"Random Vector:\")\n",
        "print(random_vector)"
      ],
      "id": "9e07cb87"
    },
    {
      "cell_type": "markdown",
      "metadata": {
        "id": "004f3da1"
      },
      "source": [
        "#### 46. Create a structured array with `x` and `y` coordinates covering the [0,1]x[0,1] area (★★☆)"
      ],
      "id": "004f3da1"
    },
    {
      "cell_type": "code",
      "execution_count": null,
      "metadata": {
        "colab": {
          "base_uri": "https://localhost:8080/"
        },
        "id": "b3824741",
        "outputId": "ba965d3c-e34c-4b35-9731-30e6ad5ff9c2"
      },
      "outputs": [
        {
          "name": "stdout",
          "output_type": "stream",
          "text": [
            "[[(0.        , 0.        ) (0.11111111, 0.        )\n",
            "  (0.22222222, 0.        ) (0.33333333, 0.        )\n",
            "  (0.44444444, 0.        ) (0.55555556, 0.        )\n",
            "  (0.66666667, 0.        ) (0.77777778, 0.        )\n",
            "  (0.88888889, 0.        ) (1.        , 0.        )]\n",
            " [(0.        , 0.11111111) (0.11111111, 0.11111111)\n",
            "  (0.22222222, 0.11111111) (0.33333333, 0.11111111)\n",
            "  (0.44444444, 0.11111111) (0.55555556, 0.11111111)\n",
            "  (0.66666667, 0.11111111) (0.77777778, 0.11111111)\n",
            "  (0.88888889, 0.11111111) (1.        , 0.11111111)]\n",
            " [(0.        , 0.22222222) (0.11111111, 0.22222222)\n",
            "  (0.22222222, 0.22222222) (0.33333333, 0.22222222)\n",
            "  (0.44444444, 0.22222222) (0.55555556, 0.22222222)\n",
            "  (0.66666667, 0.22222222) (0.77777778, 0.22222222)\n",
            "  (0.88888889, 0.22222222) (1.        , 0.22222222)]\n",
            " [(0.        , 0.33333333) (0.11111111, 0.33333333)\n",
            "  (0.22222222, 0.33333333) (0.33333333, 0.33333333)\n",
            "  (0.44444444, 0.33333333) (0.55555556, 0.33333333)\n",
            "  (0.66666667, 0.33333333) (0.77777778, 0.33333333)\n",
            "  (0.88888889, 0.33333333) (1.        , 0.33333333)]\n",
            " [(0.        , 0.44444444) (0.11111111, 0.44444444)\n",
            "  (0.22222222, 0.44444444) (0.33333333, 0.44444444)\n",
            "  (0.44444444, 0.44444444) (0.55555556, 0.44444444)\n",
            "  (0.66666667, 0.44444444) (0.77777778, 0.44444444)\n",
            "  (0.88888889, 0.44444444) (1.        , 0.44444444)]\n",
            " [(0.        , 0.55555556) (0.11111111, 0.55555556)\n",
            "  (0.22222222, 0.55555556) (0.33333333, 0.55555556)\n",
            "  (0.44444444, 0.55555556) (0.55555556, 0.55555556)\n",
            "  (0.66666667, 0.55555556) (0.77777778, 0.55555556)\n",
            "  (0.88888889, 0.55555556) (1.        , 0.55555556)]\n",
            " [(0.        , 0.66666667) (0.11111111, 0.66666667)\n",
            "  (0.22222222, 0.66666667) (0.33333333, 0.66666667)\n",
            "  (0.44444444, 0.66666667) (0.55555556, 0.66666667)\n",
            "  (0.66666667, 0.66666667) (0.77777778, 0.66666667)\n",
            "  (0.88888889, 0.66666667) (1.        , 0.66666667)]\n",
            " [(0.        , 0.77777778) (0.11111111, 0.77777778)\n",
            "  (0.22222222, 0.77777778) (0.33333333, 0.77777778)\n",
            "  (0.44444444, 0.77777778) (0.55555556, 0.77777778)\n",
            "  (0.66666667, 0.77777778) (0.77777778, 0.77777778)\n",
            "  (0.88888889, 0.77777778) (1.        , 0.77777778)]\n",
            " [(0.        , 0.88888889) (0.11111111, 0.88888889)\n",
            "  (0.22222222, 0.88888889) (0.33333333, 0.88888889)\n",
            "  (0.44444444, 0.88888889) (0.55555556, 0.88888889)\n",
            "  (0.66666667, 0.88888889) (0.77777778, 0.88888889)\n",
            "  (0.88888889, 0.88888889) (1.        , 0.88888889)]\n",
            " [(0.        , 1.        ) (0.11111111, 1.        )\n",
            "  (0.22222222, 1.        ) (0.33333333, 1.        )\n",
            "  (0.44444444, 1.        ) (0.55555556, 1.        )\n",
            "  (0.66666667, 1.        ) (0.77777778, 1.        )\n",
            "  (0.88888889, 1.        ) (1.        , 1.        )]]\n"
          ]
        }
      ],
      "source": [
        "import numpy as np\n",
        "\n",
        "# Define the structured array with x and y fields\n",
        "structured_array = np.zeros((10, 10), dtype=[('x', float), ('y', float)])\n",
        "\n",
        "# Populate x and y coordinates\n",
        "structured_array['x'], structured_array['y'] = np.meshgrid(np.linspace(0, 1, 10), np.linspace(0, 1, 10))\n",
        "\n",
        "print(structured_array)"
      ],
      "id": "b3824741"
    },
    {
      "cell_type": "markdown",
      "metadata": {
        "id": "1c0adc0d"
      },
      "source": [
        "#### 47. Given two arrays, X and Y, construct the Cauchy matrix C (Cij =1/(xi - yj)) (★★☆)"
      ],
      "id": "1c0adc0d"
    },
    {
      "cell_type": "code",
      "execution_count": null,
      "metadata": {
        "colab": {
          "base_uri": "https://localhost:8080/"
        },
        "id": "01b3bbb7",
        "outputId": "bd13a8cd-f03c-4315-9320-455175a830ec"
      },
      "outputs": [
        {
          "name": "stdout",
          "output_type": "stream",
          "text": [
            "Cauchy Matrix:\n",
            "[[-0.25       -0.2        -0.16666667 -0.14285714]\n",
            " [-0.33333333 -0.25       -0.2        -0.16666667]\n",
            " [-0.5        -0.33333333 -0.25       -0.2       ]\n",
            " [-1.         -0.5        -0.33333333 -0.25      ]]\n"
          ]
        }
      ],
      "source": [
        "import numpy as np\n",
        "\n",
        "# Example arrays X and Y\n",
        "X = np.array([1, 2, 3, 4])\n",
        "Y = np.array([5, 6, 7, 8])\n",
        "\n",
        "# Construct the Cauchy matrix C\n",
        "C = 1.0 / (X[:, np.newaxis] - Y)\n",
        "\n",
        "print(\"Cauchy Matrix:\")\n",
        "print(C)"
      ],
      "id": "01b3bbb7"
    },
    {
      "cell_type": "markdown",
      "metadata": {
        "id": "c8a2f65a"
      },
      "source": [
        "#### 48. Print the minimum and maximum representable value for each numpy scalar type (★★☆)"
      ],
      "id": "c8a2f65a"
    },
    {
      "cell_type": "code",
      "execution_count": null,
      "metadata": {
        "colab": {
          "base_uri": "https://localhost:8080/"
        },
        "id": "35d844d6",
        "outputId": "f22424ca-bcd7-42e8-c56c-f123c37045b3"
      },
      "outputs": [
        {
          "name": "stdout",
          "output_type": "stream",
          "text": [
            "int8: Min = -128, Max = 127\n",
            "int16: Min = -32768, Max = 32767\n",
            "int32: Min = -2147483648, Max = 2147483647\n",
            "int64: Min = -9223372036854775808, Max = 9223372036854775807\n",
            "uint8: Min = 0, Max = 255\n",
            "uint16: Min = 0, Max = 65535\n",
            "uint32: Min = 0, Max = 4294967295\n",
            "uint64: Min = 0, Max = 18446744073709551615\n"
          ]
        }
      ],
      "source": [
        "import numpy as np\n",
        "\n",
        "# Integer types\n",
        "integer_types = [np.int8, np.int16, np.int32, np.int64, np.uint8, np.uint16, np.uint32, np.uint64]\n",
        "\n",
        "for dtype in integer_types:\n",
        "    info = np.iinfo(dtype)\n",
        "    print(f\"{dtype.__name__}: Min = {info.min}, Max = {info.max}\")\n",
        "\n",
        "# Floating-point types\n",
        "float_types = [np.float16, np.float32, np.float64]"
      ],
      "id": "35d844d6"
    },
    {
      "cell_type": "markdown",
      "metadata": {
        "id": "11727a69"
      },
      "source": [
        "#### 49. How to print all the values of an array? (★★☆)"
      ],
      "id": "11727a69"
    },
    {
      "cell_type": "code",
      "execution_count": null,
      "metadata": {
        "colab": {
          "base_uri": "https://localhost:8080/"
        },
        "id": "47e98473",
        "outputId": "d452434c-1f59-455d-a118-7e62109ad78b"
      },
      "outputs": [
        {
          "name": "stdout",
          "output_type": "stream",
          "text": [
            "All Values:\n",
            "[[1 2 3]\n",
            " [4 5 6]\n",
            " [7 8 9]]\n",
            "Beginning of the Array:\n",
            "[[1 2 3]\n",
            " [4 5 6]\n",
            " [7 8 9]]\n",
            "End of the Array:\n",
            "[[1 2 3]\n",
            " [4 5 6]\n",
            " [7 8 9]]\n"
          ]
        }
      ],
      "source": [
        "\n",
        "import numpy as np\n",
        "\n",
        "# Example array\n",
        "my_array = np.array([[1, 2, 3], [4, 5, 6], [7, 8, 9]])\n",
        "\n",
        "# Print all values\n",
        "print(\"All Values:\")\n",
        "print(my_array)\n",
        "print(\"Beginning of the Array:\")\n",
        "print(my_array[:3, :])\n",
        "\n",
        "# Print the end of the array\n",
        "print(\"End of the Array:\")\n",
        "print(my_array[-3:, :])"
      ],
      "id": "47e98473"
    },
    {
      "cell_type": "markdown",
      "metadata": {
        "id": "e0e7d741"
      },
      "source": [
        "#### 50. How to find the closest value (to a given scalar) in a vector? (★★☆)"
      ],
      "id": "e0e7d741"
    },
    {
      "cell_type": "code",
      "execution_count": null,
      "metadata": {
        "colab": {
          "base_uri": "https://localhost:8080/"
        },
        "id": "62cabf6f",
        "outputId": "25d9f197-8416-43d4-fc82-3175ce9169a1"
      },
      "outputs": [
        {
          "name": "stdout",
          "output_type": "stream",
          "text": [
            "Vector: [1.2 3.4 5.6 7.8 9. ]\n",
            "Scalar Value: 6.0\n",
            "Closest Value: 5.6 at index 2\n"
          ]
        }
      ],
      "source": [
        "\n",
        "import numpy as np\n",
        "\n",
        "# Example vector\n",
        "vector = np.array([1.2, 3.4, 5.6, 7.8, 9.0])\n",
        "\n",
        "# Scalar value\n",
        "scalar_value = 6.0\n",
        "\n",
        "# Find the index of the closest value\n",
        "index_closest = np.argmin(np.abs(vector - scalar_value))\n",
        "\n",
        "# Get the closest value\n",
        "closest_value = vector[index_closest]\n",
        "\n",
        "print(f\"Vector: {vector}\")\n",
        "print(f\"Scalar Value: {scalar_value}\")\n",
        "print(f\"Closest Value: {closest_value} at index {index_closest}\")"
      ],
      "id": "62cabf6f"
    },
    {
      "cell_type": "markdown",
      "metadata": {
        "id": "c5611b9e"
      },
      "source": [
        "#### 51. Create a structured array representing a position (x,y) and a color (r,g,b) (★★☆)"
      ],
      "id": "c5611b9e"
    },
    {
      "cell_type": "code",
      "execution_count": null,
      "metadata": {
        "colab": {
          "base_uri": "https://localhost:8080/"
        },
        "id": "f622939d",
        "outputId": "97981d61-a24e-4715-8718-778274b2ec5a"
      },
      "outputs": [
        {
          "name": "stdout",
          "output_type": "stream",
          "text": [
            "[((1. , 2. ), (255,   0,   0)) ((3.5, 4.5), (  0, 255,   0))\n",
            " ((6. , 7. ), (  0,   0, 255))]\n"
          ]
        }
      ],
      "source": [
        "\n",
        "import numpy as np\n",
        "\n",
        "# Define the structured array dtype\n",
        "dtype = [('position', [('x', float), ('y', float)]),\n",
        "         ('color', [('r', int), ('g', int), ('b', int)])]\n",
        "\n",
        "# Create a structured array\n",
        "structured_array = np.array([((1.0, 2.0), (255, 0, 0)),\n",
        "                             ((3.5, 4.5), (0, 255, 0)),\n",
        "                             ((6.0, 7.0), (0, 0, 255))], dtype=dtype)\n",
        "\n",
        "print(structured_array)"
      ],
      "id": "f622939d"
    },
    {
      "cell_type": "markdown",
      "metadata": {
        "id": "d22b8574"
      },
      "source": [
        "#### 52. Consider a random vector with shape (100,2) representing coordinates, find point by point distances (★★☆)"
      ],
      "id": "d22b8574"
    },
    {
      "cell_type": "code",
      "execution_count": null,
      "metadata": {
        "colab": {
          "base_uri": "https://localhost:8080/"
        },
        "id": "d5c9cdf8",
        "outputId": "8d2e46dc-f232-488b-8c75-ed997415c576"
      },
      "outputs": [
        {
          "name": "stdout",
          "output_type": "stream",
          "text": [
            "Point-by-Point Distances:\n",
            "[[0.         0.92426197 1.26336596 ... 0.83362343 0.70711289 0.54472132]\n",
            " [0.92426197 0.         0.89562293 ... 1.14275665 0.45519278 0.44973184]\n",
            " [1.26336596 0.89562293 0.         ... 0.76341115 0.61856336 0.80675803]\n",
            " ...\n",
            " [0.83362343 1.14275665 0.76341115 ... 0.         0.68805369 0.74569473]\n",
            " [0.70711289 0.45519278 0.61856336 ... 0.68805369 0.         0.18976793]\n",
            " [0.54472132 0.44973184 0.80675803 ... 0.74569473 0.18976793 0.        ]]\n"
          ]
        }
      ],
      "source": [
        "\n",
        "import numpy as np\n",
        "from scipy.spatial.distance import cdist\n",
        "\n",
        "# Create a random vector with shape (100, 2)\n",
        "coordinates = np.random.rand(100, 2)\n",
        "\n",
        "# Calculate point-by-point distances\n",
        "distances = cdist(coordinates, coordinates)\n",
        "\n",
        "print(\"Point-by-Point Distances:\")\n",
        "print(distances)"
      ],
      "id": "d5c9cdf8"
    },
    {
      "cell_type": "markdown",
      "metadata": {
        "id": "f5c164f2"
      },
      "source": [
        "#### 53. How to convert a float (32 bits) array into an integer (32 bits) in place?"
      ],
      "id": "f5c164f2"
    },
    {
      "cell_type": "code",
      "execution_count": null,
      "metadata": {
        "colab": {
          "base_uri": "https://localhost:8080/"
        },
        "id": "ea262de8",
        "outputId": "34cd706d-d10d-4ed9-d277-7d49848c3d9e"
      },
      "outputs": [
        {
          "name": "stdout",
          "output_type": "stream",
          "text": [
            "Float Array:\n",
            "[1.e-45 4.e-45 7.e-45]\n",
            "Converted Integer Array:\n",
            "[1 3 5]\n"
          ]
        }
      ],
      "source": [
        "\n",
        "import numpy as np\n",
        "\n",
        "# Create a float (32 bits) array\n",
        "float_array = np.array([1.2, 3.4, 5.6], dtype=np.float32)\n",
        "\n",
        "# Convert the float array to an integer (32 bits) array in place\n",
        "float_array.view(np.int32)[...] = float_array\n",
        "\n",
        "print(\"Float Array:\")\n",
        "print(float_array)\n",
        "print(\"Converted Integer Array:\")\n",
        "print(float_array.view(np.int32))"
      ],
      "id": "ea262de8"
    },
    {
      "cell_type": "markdown",
      "metadata": {
        "id": "a8b7e6f5"
      },
      "source": [
        "#### 54. How to read the following file? (★★☆)\n",
        "```\n",
        "1, 2, 3, 4, 5\n",
        "6,  ,  , 7, 8\n",
        " ,  , 9,10,11\n",
        "```"
      ],
      "id": "a8b7e6f5"
    },
    {
      "cell_type": "code",
      "execution_count": null,
      "metadata": {
        "id": "bde0538a"
      },
      "outputs": [],
      "source": [
        "\n",
        "import numpy as np\n",
        "\n",
        "# Read the file using genfromtxt\n",
        "data = np.genfromtxt('example.txt', delimiter=',', dtype=np.float32, filling_values=np.nan)\n",
        "\n",
        "print(\"Data:\")\n",
        "print(data)"
      ],
      "id": "bde0538a"
    },
    {
      "cell_type": "markdown",
      "metadata": {
        "id": "c6b32834"
      },
      "source": [
        "#### 55. What is the equivalent of enumerate for numpy arrays? (★★☆)"
      ],
      "id": "c6b32834"
    },
    {
      "cell_type": "code",
      "execution_count": null,
      "metadata": {
        "id": "ab02472a"
      },
      "outputs": [],
      "source": [
        "\n",
        "import numpy as np\n",
        "\n",
        "# Create a NumPy array\n",
        "arr = np.array([[1, 2, 3], [4, 5, 6], [7, 8, 9]])\n",
        "\n",
        "# Use ndenumerate to iterate over indices and values\n",
        "for index, value in np.ndenumerate(arr):\n",
        "    print(f\"Index: {index}, Value: {value}\")"
      ],
      "id": "ab02472a"
    },
    {
      "cell_type": "markdown",
      "metadata": {
        "id": "a2121a05"
      },
      "source": [
        "#### 56. Generate a generic 2D Gaussian-like array (★★☆)"
      ],
      "id": "a2121a05"
    },
    {
      "cell_type": "markdown",
      "metadata": {
        "id": "97055efa"
      },
      "source": [
        "#### 57. How to randomly place p elements in a 2D array? (★★☆)"
      ],
      "id": "97055efa"
    },
    {
      "cell_type": "code",
      "execution_count": null,
      "metadata": {
        "colab": {
          "base_uri": "https://localhost:8080/"
        },
        "id": "18507102",
        "outputId": "07926be1-ffe9-42cc-e7a1-6fa5a88ef41e"
      },
      "outputs": [
        {
          "name": "stdout",
          "output_type": "stream",
          "text": [
            "[[0.01831564 0.082085   0.13533528 0.082085   0.01831564]\n",
            " [0.082085   0.36787944 0.60653066 0.36787944 0.082085  ]\n",
            " [0.13533528 0.60653066 1.         0.60653066 0.13533528]\n",
            " [0.082085   0.36787944 0.60653066 0.36787944 0.082085  ]\n",
            " [0.01831564 0.082085   0.13533528 0.082085   0.01831564]]\n"
          ]
        }
      ],
      "source": [
        "\n",
        "import numpy as np\n",
        "import matplotlib.pyplot as plt\n",
        "\n",
        "def gaussian_2d(x, y, mu, sigma):\n",
        "    # 2D Gaussian function\n",
        "    return np.exp(-((x - mu[0])**2 + (y - mu[1])**2) / (2 * sigma**2))\n",
        "\n",
        "def generate_gaussian_array(rows, columns, mu, sigma):\n",
        "    # Generate 2D Gaussian-like array\n",
        "    x, y = np.meshgrid(np.arange(columns), np.arange(rows))\n",
        "    array_2d = gaussian_2d(x, y, mu, sigma)\n",
        "    return array_2d\n",
        "\n",
        "# Specify array dimensions\n",
        "rows = 5\n",
        "columns = 5\n",
        "\n",
        "# Specify Gaussian parameters\n",
        "mu = (rows // 2, columns // 2)  # center of the array\n",
        "sigma = 1.0  # standard deviation\n",
        "\n",
        "# Generate Gaussian-like array\n",
        "gaussian_array = generate_gaussian_array(rows, columns, mu, sigma)\n",
        "\n",
        "# Print the resulting array\n",
        "print(gaussian_array)"
      ],
      "id": "18507102"
    },
    {
      "cell_type": "markdown",
      "metadata": {
        "id": "bfd2513c"
      },
      "source": [
        "#### 58. Subtract the mean of each row of a matrix (★★☆)"
      ],
      "id": "bfd2513c"
    },
    {
      "cell_type": "code",
      "execution_count": null,
      "metadata": {
        "id": "f306ab72"
      },
      "outputs": [],
      "source": [
        "\n",
        "import numpy as np\n",
        "\n",
        "# Assuming M is your matrix\n",
        "M = np.array([[1, 2, 3],\n",
        "              [4, 5, 6],\n",
        "              [7, 8, 9]])\n",
        "\n",
        "# Subtract the mean of each row\n",
        "M_prime = M - np.mean(M, axis=1, keepdims=True)\n",
        "\n",
        "# M_prime now contains the result with the mean of each row subtracted"
      ],
      "id": "f306ab72"
    },
    {
      "cell_type": "markdown",
      "metadata": {
        "id": "da9f2f9b"
      },
      "source": [
        "#### 59. How to sort an array by the nth column? (★★☆)"
      ],
      "id": "da9f2f9b"
    },
    {
      "cell_type": "code",
      "execution_count": null,
      "metadata": {
        "id": "68cde57f"
      },
      "outputs": [],
      "source": [
        "\n",
        "import numpy as np\n",
        "\n",
        "# Assuming arr is your 2D array and n is the column index\n",
        "arr = np.array([[3, 2, 1],\n",
        "                [6, 5, 4],\n",
        "                [9, 8, 7]])\n",
        "\n",
        "n = 1  # Sort by the second column (index 1)\n",
        "\n",
        "# Sort the array by the nth column\n",
        "sorted_arr = arr[arr[:, n].argsort()]\n",
        "\n",
        "# sorted_arr now contains the original array sorted by the nth column"
      ],
      "id": "68cde57f"
    },
    {
      "cell_type": "markdown",
      "metadata": {
        "id": "5b7be45c"
      },
      "source": [
        "#### 60. How to tell if a given 2D array has null columns? (★★☆)"
      ],
      "id": "5b7be45c"
    },
    {
      "cell_type": "code",
      "execution_count": null,
      "metadata": {
        "colab": {
          "base_uri": "https://localhost:8080/"
        },
        "id": "7dbe2c27",
        "outputId": "11ea9937-bed7-4a44-a674-dfe7e81fdee9"
      },
      "outputs": [
        {
          "name": "stdout",
          "output_type": "stream",
          "text": [
            "The array has null columns.\n"
          ]
        }
      ],
      "source": [
        "\n",
        "import numpy as np\n",
        "\n",
        "# Assuming arr is your 2D array\n",
        "arr = np.array([[1, 0, 3],\n",
        "                [0, 0, 0],\n",
        "                [4, 0, 6]])\n",
        "\n",
        "# Check for null columns\n",
        "null_columns = np.all(arr == 0, axis=0)\n",
        "\n",
        "# null_columns is a boolean array indicating whether each column is null\n",
        "# If any element in null_columns is True, the corresponding column is null\n",
        "\n",
        "if any(null_columns):\n",
        "    print(\"The array has null columns.\")\n",
        "else:\n",
        "    print(\"The array does not have null columns.\")"
      ],
      "id": "7dbe2c27"
    },
    {
      "cell_type": "markdown",
      "metadata": {
        "id": "7c18c02e"
      },
      "source": [
        "#### 61. Find the nearest value from a given value in an array (★★☆)"
      ],
      "id": "7c18c02e"
    },
    {
      "cell_type": "code",
      "execution_count": null,
      "metadata": {
        "colab": {
          "base_uri": "https://localhost:8080/"
        },
        "id": "b78ae9c4",
        "outputId": "5841d38c-c26f-460a-cbfa-0702b714121b"
      },
      "outputs": [
        {
          "name": "stdout",
          "output_type": "stream",
          "text": [
            "The nearest value to 4 is 3.\n"
          ]
        }
      ],
      "source": [
        "\n",
        "import numpy as np\n",
        "\n",
        "# Assuming arr is your array and target is the value you want to find the nearest to\n",
        "arr = np.array([1, 3, 5, 7, 9])\n",
        "target = 4\n",
        "\n",
        "# Find the index of the nearest value\n",
        "nearest_index = np.abs(arr - target).argmin()\n",
        "\n",
        "# The nearest value is arr[nearest_index]\n",
        "nearest_value = arr[nearest_index]\n",
        "\n",
        "print(f\"The nearest value to {target} is {nearest_value}.\")"
      ],
      "id": "b78ae9c4"
    },
    {
      "cell_type": "markdown",
      "metadata": {
        "id": "8174ba2c"
      },
      "source": [
        "#### 62. Considering two arrays with shape (1,3) and (3,1), how to compute their sum using an iterator? (★★☆)"
      ],
      "id": "8174ba2c"
    },
    {
      "cell_type": "code",
      "execution_count": null,
      "metadata": {
        "colab": {
          "base_uri": "https://localhost:8080/"
        },
        "id": "8a18fe57",
        "outputId": "67f7cd39-eda8-466a-d66e-0cbfa5a0c2e3"
      },
      "outputs": [
        {
          "name": "stdout",
          "output_type": "stream",
          "text": [
            "Sum of arrays: [[5. 7. 9.]]\n"
          ]
        }
      ],
      "source": [
        "\n",
        "import numpy as np\n",
        "\n",
        "# Assuming arr1 and arr2 are your arrays\n",
        "arr1 = np.array([[1, 2, 3]])\n",
        "arr2 = np.array([[4],\n",
        "                 [5],\n",
        "                 [6]])\n",
        "\n",
        "# Ensure both arrays have the same shape\n",
        "if arr1.shape == (1, 3) and arr2.shape == (3, 1):\n",
        "    # Initialize the sum\n",
        "    result = np.zeros((1, 3))\n",
        "\n",
        "    # Iterate over the elements and compute the sum\n",
        "    for i in range(3):\n",
        "        result[0, i] = arr1[0, i] + arr2[i, 0]\n",
        "\n",
        "    print(\"Sum of arrays:\", result)\n",
        "else:\n",
        "    print(\"Arrays do not have the correct shapes for summation.\")"
      ],
      "id": "8a18fe57"
    },
    {
      "cell_type": "markdown",
      "metadata": {
        "id": "9189bd7c"
      },
      "source": [
        "#### 63. Create an array class that has a name attribute (★★☆)"
      ],
      "id": "9189bd7c"
    },
    {
      "cell_type": "code",
      "execution_count": null,
      "metadata": {
        "colab": {
          "base_uri": "https://localhost:8080/"
        },
        "id": "1c01ed42",
        "outputId": "8527b0cb-a66a-4a43-bb93-d012bbf6bad9"
      },
      "outputs": [
        {
          "name": "stdout",
          "output_type": "stream",
          "text": [
            "Array Name: Example Array\n",
            "Array Values: [1, 2, 3, 4]\n"
          ]
        }
      ],
      "source": [
        "\n",
        "class NamedArray:\n",
        "    def __init__(self, name, array):\n",
        "        self.name = name\n",
        "        self.array = array\n",
        "\n",
        "# Example usage:\n",
        "my_array = NamedArray(\"Example Array\", [1, 2, 3, 4])\n",
        "\n",
        "print(\"Array Name:\", my_array.name)\n",
        "print(\"Array Values:\", my_array.array)"
      ],
      "id": "1c01ed42"
    },
    {
      "cell_type": "markdown",
      "metadata": {
        "id": "f30162d2"
      },
      "source": [
        "#### 64. Consider a given vector, how to add 1 to each element indexed by a second vector (be careful with repeated indices)? (★★★)"
      ],
      "id": "f30162d2"
    },
    {
      "cell_type": "code",
      "execution_count": null,
      "metadata": {
        "colab": {
          "base_uri": "https://localhost:8080/"
        },
        "id": "093ba36f",
        "outputId": "05f94ed3-876d-491f-9c58-60099d986a15"
      },
      "outputs": [
        {
          "name": "stdout",
          "output_type": "stream",
          "text": [
            "Original vector: [1 2 3 4 5]\n",
            "Result vector: [1 4 4 5 6]\n"
          ]
        }
      ],
      "source": [
        "\n",
        "import numpy as np\n",
        "\n",
        "# Given vector\n",
        "given_vector = np.array([1, 2, 3, 4, 5])\n",
        "\n",
        "# Second vector of indices\n",
        "indices_to_add_1 = np.array([1, 3, 1, 4, 2])\n",
        "\n",
        "# Create a copy of the original vector to avoid modifying it directly\n",
        "result_vector = given_vector.copy()\n",
        "\n",
        "# Use np.add.at to add 1 to the specified indices\n",
        "np.add.at(result_vector, indices_to_add_1, 1)\n",
        "\n",
        "print(\"Original vector:\", given_vector)\n",
        "print(\"Result vector:\", result_vector)"
      ],
      "id": "093ba36f"
    },
    {
      "cell_type": "markdown",
      "metadata": {
        "id": "f5b1c584"
      },
      "source": [
        "#### 65. How to accumulate elements of a vector (X) to an array (F) based on an index list (I)? (★★★)"
      ],
      "id": "f5b1c584"
    },
    {
      "cell_type": "code",
      "execution_count": null,
      "metadata": {
        "colab": {
          "base_uri": "https://localhost:8080/"
        },
        "id": "c9d92a75",
        "outputId": "3eb45cf1-7305-4e98-f95d-f785e24ae38c"
      },
      "outputs": [
        {
          "name": "stdout",
          "output_type": "stream",
          "text": [
            "Vector X: [1 2 3 4 5]\n",
            "Index list I: [1 3 1 4 2]\n",
            "Accumulated array F: [0 4 5 2 4]\n"
          ]
        }
      ],
      "source": [
        "\n",
        "import numpy as np\n",
        "\n",
        "# Given vector X and index list I\n",
        "X = np.array([1, 2, 3, 4, 5])\n",
        "I = np.array([1, 3, 1, 4, 2])\n",
        "\n",
        "# Determine the unique indices in I\n",
        "unique_indices = np.unique(I)\n",
        "\n",
        "# Create an array F initialized with zeros\n",
        "F = np.zeros_like(X)\n",
        "\n",
        "# Accumulate elements of X based on indices in I\n",
        "np.add.at(F, I, X)\n",
        "\n",
        "print(\"Vector X:\", X)\n",
        "print(\"Index list I:\", I)\n",
        "print(\"Accumulated array F:\", F)"
      ],
      "id": "c9d92a75"
    },
    {
      "cell_type": "markdown",
      "metadata": {
        "id": "994c452d"
      },
      "source": [
        "#### 66. Considering a (w,h,3) image of (dtype=ubyte), compute the number of unique colors (★★☆)"
      ],
      "id": "994c452d"
    },
    {
      "cell_type": "code",
      "execution_count": null,
      "metadata": {
        "colab": {
          "base_uri": "https://localhost:8080/"
        },
        "id": "269cdaea",
        "outputId": "813e0a37-5867-4c58-de90-f6105b691dcd"
      },
      "outputs": [
        {
          "name": "stdout",
          "output_type": "stream",
          "text": [
            "Number of unique colors: 100\n"
          ]
        }
      ],
      "source": [
        "\n",
        "import numpy as np\n",
        "\n",
        "# Assuming img is your image of shape (w, h, 3)\n",
        "img = np.random.randint(0, 256, size=(10, 10, 3), dtype=np.uint8)  # Example image\n",
        "\n",
        "# Reshape the image to a 2D array (w * h, 3)\n",
        "reshaped_img = img.reshape((-1, 3))\n",
        "\n",
        "# Convert the 2D array to a list of tuples to make it hashable\n",
        "unique_colors = np.unique(reshaped_img.view([('', reshaped_img.dtype)] * reshaped_img.shape[1]))\n",
        "\n",
        "# Number of unique colors\n",
        "num_unique_colors = len(unique_colors)\n",
        "\n",
        "print(\"Number of unique colors:\", num_unique_colors)"
      ],
      "id": "269cdaea"
    },
    {
      "cell_type": "markdown",
      "metadata": {
        "id": "4bddeb31"
      },
      "source": [
        "#### 67. Considering a four dimensions array, how to get sum over the last two axis at once? (★★★)"
      ],
      "id": "4bddeb31"
    },
    {
      "cell_type": "code",
      "execution_count": null,
      "metadata": {
        "colab": {
          "base_uri": "https://localhost:8080/"
        },
        "id": "32af15f5",
        "outputId": "b0fd5d01-1c19-4068-a726-57b274f31d24"
      },
      "outputs": [
        {
          "output_type": "stream",
          "name": "stdout",
          "text": [
            "Original array shape: (2, 3, 4, 5)\n",
            "Sum over the last two axes shape: (2, 3)\n"
          ]
        }
      ],
      "source": [
        "\n",
        "import numpy as np\n",
        "\n",
        "# Assuming arr is your four-dimensional array\n",
        "arr = np.random.randint(0, 10, size=(2, 3, 4, 5))\n",
        "\n",
        "# Get the sum over the last two axes (axis=-2 and axis=-1)\n",
        "sum_over_last_two_axes = np.sum(arr, axis=(-2, -1))\n",
        "\n",
        "print(\"Original array shape:\", arr.shape)\n",
        "print(\"Sum over the last two axes shape:\", sum_over_last_two_axes.shape)"
      ],
      "id": "32af15f5"
    },
    {
      "cell_type": "markdown",
      "metadata": {
        "id": "c4cf083c"
      },
      "source": [
        "#### 68. Considering a one-dimensional vector D, how to compute means of subsets of D using a vector S of same size describing subset  indices? (★★★)"
      ],
      "id": "c4cf083c"
    },
    {
      "cell_type": "code",
      "execution_count": null,
      "metadata": {
        "id": "9600a2dd",
        "colab": {
          "base_uri": "https://localhost:8080/"
        },
        "outputId": "ae8907c1-0279-4429-f710-cb08d48eb843"
      },
      "outputs": [
        {
          "output_type": "stream",
          "name": "stdout",
          "text": [
            "Original vector D: [1 2 3 4 5 6]\n",
            "Subset indices vector S: [0 1 0 1 1 0]\n",
            "Means of subsets: [3.3333333333333335, 3.6666666666666665]\n"
          ]
        }
      ],
      "source": [
        "\n",
        "import numpy as np\n",
        "\n",
        "# Assuming D is your one-dimensional vector and S is the subset indices vector\n",
        "D = np.array([1, 2, 3, 4, 5, 6])\n",
        "S = np.array([0, 1, 0, 1, 1, 0])\n",
        "\n",
        "# Use np.unique to find unique indices and iterate over them to calculate means\n",
        "unique_indices = np.unique(S)\n",
        "\n",
        "subset_means = [np.mean(D[S == idx]) for idx in unique_indices]\n",
        "\n",
        "print(\"Original vector D:\", D)\n",
        "print(\"Subset indices vector S:\", S)\n",
        "print(\"Means of subsets:\", subset_means)"
      ],
      "id": "9600a2dd"
    },
    {
      "cell_type": "markdown",
      "metadata": {
        "id": "a5e316db"
      },
      "source": [
        "#### 69. How to get the diagonal of a dot product? (★★★)"
      ],
      "id": "a5e316db"
    },
    {
      "cell_type": "code",
      "execution_count": null,
      "metadata": {
        "id": "94735dbd",
        "colab": {
          "base_uri": "https://localhost:8080/"
        },
        "outputId": "bee40ac8-cc36-4708-b54c-83fd0bd415b7"
      },
      "outputs": [
        {
          "output_type": "stream",
          "name": "stdout",
          "text": [
            "Dot product:\n",
            " [[19 22]\n",
            " [43 50]]\n",
            "Diagonal of the dot product: [19 50]\n"
          ]
        }
      ],
      "source": [
        "\n",
        "import numpy as np\n",
        "\n",
        "# Assuming A and B are your matrices\n",
        "A = np.array([[1, 2],\n",
        "              [3, 4]])\n",
        "\n",
        "B = np.array([[5, 6],\n",
        "              [7, 8]])\n",
        "\n",
        "# Calculate the dot product\n",
        "dot_product = np.dot(A, B)\n",
        "\n",
        "# Get the diagonal of the dot product\n",
        "diagonal_dot_product = np.diagonal(dot_product)\n",
        "\n",
        "print(\"Dot product:\\n\", dot_product)\n",
        "print(\"Diagonal of the dot product:\", diagonal_dot_product)"
      ],
      "id": "94735dbd"
    },
    {
      "cell_type": "markdown",
      "metadata": {
        "id": "de727a7b"
      },
      "source": [
        "#### 70. Consider the vector [1, 2, 3, 4, 5], how to build a new vector with 3 consecutive zeros interleaved between each value? (★★★)"
      ],
      "id": "de727a7b"
    },
    {
      "cell_type": "code",
      "execution_count": null,
      "metadata": {
        "id": "982be812",
        "colab": {
          "base_uri": "https://localhost:8080/"
        },
        "outputId": "bbf47f28-d892-4143-9e34-561515eac13d"
      },
      "outputs": [
        {
          "output_type": "stream",
          "name": "stdout",
          "text": [
            "Original vector: [1 2 3 4 5]\n",
            "New vector with 3 consecutive zeros interleaved: [1. 0. 0. 0. 2. 0. 0. 0. 3. 0. 0. 0. 4. 0. 0. 0. 5.]\n"
          ]
        }
      ],
      "source": [
        "\n",
        "import numpy as np\n",
        "\n",
        "# Original vector\n",
        "original_vector = np.array([1, 2, 3, 4, 5])\n",
        "\n",
        "# Build a new vector with 3 consecutive zeros interleaved\n",
        "new_vector = np.zeros(len(original_vector) + 3 * (len(original_vector) - 1))\n",
        "new_vector[::4] = original_vector\n",
        "\n",
        "print(\"Original vector:\", original_vector)\n",
        "print(\"New vector with 3 consecutive zeros interleaved:\", new_vector)"
      ],
      "id": "982be812"
    },
    {
      "cell_type": "markdown",
      "metadata": {
        "id": "a9a73d6b"
      },
      "source": [
        "#### 71. Consider an array of dimension (5,5,3), how to mulitply it by an array with dimensions (5,5)? (★★★)"
      ],
      "id": "a9a73d6b"
    },
    {
      "cell_type": "code",
      "execution_count": null,
      "metadata": {
        "id": "282a90cc",
        "colab": {
          "base_uri": "https://localhost:8080/"
        },
        "outputId": "a43e1522-0c5b-4453-8efa-24370338f24d"
      },
      "outputs": [
        {
          "output_type": "stream",
          "name": "stdout",
          "text": [
            "3D array shape: (5, 5, 3)\n",
            "2D array shape: (5, 5)\n",
            "Resulting array shape: (5, 5, 3)\n"
          ]
        }
      ],
      "source": [
        "\n",
        "import numpy as np\n",
        "\n",
        "# Assuming arr_3d is your 3D array and arr_2d is your 2D array\n",
        "arr_3d = np.random.randint(1, 10, size=(5, 5, 3))\n",
        "arr_2d = np.random.randint(1, 10, size=(5, 5))\n",
        "\n",
        "# Multiply element-wise\n",
        "result_array = arr_3d * arr_2d[:, :, np.newaxis]\n",
        "\n",
        "print(\"3D array shape:\", arr_3d.shape)\n",
        "print(\"2D array shape:\", arr_2d.shape)\n",
        "print(\"Resulting array shape:\", result_array.shape)"
      ],
      "id": "282a90cc"
    },
    {
      "cell_type": "markdown",
      "metadata": {
        "id": "a951c78f"
      },
      "source": [
        "#### 72. How to swap two rows of an array? (★★★)"
      ],
      "id": "a951c78f"
    },
    {
      "cell_type": "code",
      "execution_count": null,
      "metadata": {
        "id": "e29b3fde",
        "colab": {
          "base_uri": "https://localhost:8080/"
        },
        "outputId": "954d2a2c-d647-4803-e55e-df5eb21a903f"
      },
      "outputs": [
        {
          "output_type": "stream",
          "name": "stdout",
          "text": [
            "Array after swapping rows:\n",
            " [[1 2 3]\n",
            " [7 8 9]\n",
            " [4 5 6]]\n"
          ]
        }
      ],
      "source": [
        "\n",
        "import numpy as np\n",
        "\n",
        "# Assuming arr is your array\n",
        "arr = np.array([[1, 2, 3],\n",
        "                [4, 5, 6],\n",
        "                [7, 8, 9]])\n",
        "\n",
        "# Swap rows 1 and 2 (0-indexed)\n",
        "arr[1], arr[2] = arr[2].copy(), arr[1].copy()\n",
        "\n",
        "print(\"Array after swapping rows:\\n\", arr)"
      ],
      "id": "e29b3fde"
    },
    {
      "cell_type": "markdown",
      "metadata": {
        "id": "43b639e8"
      },
      "source": [
        "#### 73. Consider a set of 10 triplets describing 10 triangles (with shared vertices), find the set of unique line segments composing all the  triangles (★★★)"
      ],
      "id": "43b639e8"
    },
    {
      "cell_type": "code",
      "execution_count": null,
      "metadata": {
        "id": "147e1034",
        "colab": {
          "base_uri": "https://localhost:8080/"
        },
        "outputId": "44cbdee4-87af-40ea-9e85-951ebced31c5"
      },
      "outputs": [
        {
          "output_type": "stream",
          "name": "stdout",
          "text": [
            "Original triplets shape: (2, 3, 2)\n",
            "Unique edges array:\n",
            " [[ 9 10]\n",
            " [ 1  2]\n",
            " [ 3  4]\n",
            " [ 5  6]\n",
            " [ 7  8]]\n"
          ]
        }
      ],
      "source": [
        "\n",
        "import numpy as np\n",
        "\n",
        "# Assuming triplets is your array of 10 triplets\n",
        "triplets = np.array([\n",
        "    [[1, 2], [3, 4], [5, 6]],\n",
        "    [[3, 4], [7, 8], [9, 10]],\n",
        "    # Add more triplets as needed\n",
        "])\n",
        "\n",
        "# Reshape to a 2D array for easier manipulation\n",
        "edges = triplets.reshape(-1, 2)\n",
        "\n",
        "# Convert to a set of tuples to remove duplicates\n",
        "unique_edges_set = {tuple(edge) for edge in edges}\n",
        "\n",
        "# Convert back to a NumPy array if needed\n",
        "unique_edges_array = np.array(list(unique_edges_set))\n",
        "\n",
        "print(\"Original triplets shape:\", triplets.shape)\n",
        "print(\"Unique edges array:\\n\", unique_edges_array)"
      ],
      "id": "147e1034"
    },
    {
      "cell_type": "markdown",
      "metadata": {
        "id": "d41de585"
      },
      "source": [
        "#### 74. Given a sorted array C that corresponds to a bincount, how to produce an array A such that np.bincount(A) == C? (★★★)"
      ],
      "id": "d41de585"
    },
    {
      "cell_type": "code",
      "execution_count": null,
      "metadata": {
        "id": "5f5d6e36",
        "colab": {
          "base_uri": "https://localhost:8080/"
        },
        "outputId": "a7288c8d-0556-4649-82b5-4b4030b8fd7c"
      },
      "outputs": [
        {
          "output_type": "stream",
          "name": "stdout",
          "text": [
            "Original array A: [1 2 3 3 4 4 5 5 5 6 6 6 7 7 7 8 8 8 8 9 9 9 9]\n"
          ]
        }
      ],
      "source": [
        "\n",
        "import numpy as np\n",
        "\n",
        "# Assuming C is your bincount result\n",
        "C = np.array([0, 1, 1, 2, 2, 3, 3, 3, 4, 4])\n",
        "\n",
        "# Find the original array A\n",
        "A = np.repeat(np.arange(len(C)), C)\n",
        "\n",
        "print(\"Original array A:\", A)"
      ],
      "id": "5f5d6e36"
    },
    {
      "cell_type": "markdown",
      "metadata": {
        "id": "b50adf7c"
      },
      "source": [
        "#### 75. How to compute averages using a sliding window over an array? (★★★)"
      ],
      "id": "b50adf7c"
    },
    {
      "cell_type": "code",
      "execution_count": null,
      "metadata": {
        "id": "3ccfe2c0",
        "colab": {
          "base_uri": "https://localhost:8080/"
        },
        "outputId": "efba3fd6-dcb9-457f-ec8d-b975f09e23e3"
      },
      "outputs": [
        {
          "output_type": "stream",
          "name": "stdout",
          "text": [
            "Original array: [1 2 3 4 5 6 7 8 9]\n",
            "Averages with a sliding window of size 3: [2. 3. 4. 5. 6. 7. 8.]\n"
          ]
        }
      ],
      "source": [
        "\n",
        "import numpy as np\n",
        "\n",
        "def sliding_window_average(arr, window_size):\n",
        "    if window_size <= 0:\n",
        "        raise ValueError(\"Window size must be greater than 0.\")\n",
        "\n",
        "    cumsum = np.cumsum(arr, dtype=float)\n",
        "    cumsum[window_size:] = cumsum[window_size:] - cumsum[:-window_size]\n",
        "    averages = cumsum[window_size - 1:] / window_size\n",
        "\n",
        "    return averages\n",
        "\n",
        "# Example usage:\n",
        "arr = np.array([1, 2, 3, 4, 5, 6, 7, 8, 9])\n",
        "window_size = 3\n",
        "\n",
        "result = sliding_window_average(arr, window_size)\n",
        "\n",
        "print(\"Original array:\", arr)\n",
        "print(f\"Averages with a sliding window of size {window_size}:\", result)"
      ],
      "id": "3ccfe2c0"
    },
    {
      "cell_type": "markdown",
      "metadata": {
        "id": "1ab4c50d"
      },
      "source": [
        "#### 76. Consider a one-dimensional array Z, build a two-dimensional array whose first row is (Z[0],Z[1],Z[2]) and each subsequent row is  shifted by 1 (last row should be (Z[-3],Z[-2],Z[-1]) (★★★)"
      ],
      "id": "1ab4c50d"
    },
    {
      "cell_type": "code",
      "source": [
        "\n",
        "import numpy as np\n",
        "\n",
        "# Assuming Z is your one-dimensional array\n",
        "Z = np.array([1, 2, 3, 4, 5, 6, 7, 8, 9, 10, 11, 12, 13, 14])\n",
        "\n",
        "# Set the size of the subarrays in the resulting array\n",
        "subarray_size = 3\n",
        "\n",
        "# Build the two-dimensional array with shifted rows\n",
        "result_array = np.lib.stride_tricks.sliding_window_view(Z, (subarray_size,))\n",
        "\n",
        "print(\"Original array Z:\", Z)\n",
        "print(\"Resulting two-dimensional array:\")\n",
        "print(result_array)"
      ],
      "metadata": {
        "id": "N3FQeFaIR3eJ",
        "outputId": "f04fdcb0-58f6-4133-b6fc-098abd8ca28d",
        "colab": {
          "base_uri": "https://localhost:8080/"
        }
      },
      "id": "N3FQeFaIR3eJ",
      "execution_count": null,
      "outputs": [
        {
          "output_type": "stream",
          "name": "stdout",
          "text": [
            "Original array Z: [ 1  2  3  4  5  6  7  8  9 10 11 12 13 14]\n",
            "Resulting two-dimensional array:\n",
            "[[ 1  2  3]\n",
            " [ 2  3  4]\n",
            " [ 3  4  5]\n",
            " [ 4  5  6]\n",
            " [ 5  6  7]\n",
            " [ 6  7  8]\n",
            " [ 7  8  9]\n",
            " [ 8  9 10]\n",
            " [ 9 10 11]\n",
            " [10 11 12]\n",
            " [11 12 13]\n",
            " [12 13 14]]\n"
          ]
        }
      ]
    },
    {
      "cell_type": "markdown",
      "metadata": {
        "id": "5b4fe59d"
      },
      "source": [
        "#### 77. How to negate a boolean, or to change the sign of a float inplace? (★★★)"
      ],
      "id": "5b4fe59d"
    },
    {
      "cell_type": "code",
      "execution_count": null,
      "metadata": {
        "id": "3c2373ff",
        "colab": {
          "base_uri": "https://localhost:8080/"
        },
        "outputId": "d0a48093-47d1-454d-e0d2-2a5e6b962c00"
      },
      "outputs": [
        {
          "output_type": "stream",
          "name": "stdout",
          "text": [
            "Original array Z: [1 2 3 4 5 6 7 8 9]\n",
            "Resulting two-dimensional array:\n",
            "[[1 2 3]\n",
            " [2 3 4]\n",
            " [3 4 5]\n",
            " [4 5 6]\n",
            " [5 6 7]\n",
            " [6 7 8]\n",
            " [7 8 9]]\n"
          ]
        }
      ],
      "source": [
        "\n",
        "import numpy as np\n",
        "\n",
        "# Assuming Z is your one-dimensional array\n",
        "Z = np.array([1, 2, 3, 4, 5, 6, 7, 8, 9])\n",
        "\n",
        "# Build the two-dimensional array with shifted rows\n",
        "num_rows = 3  # Number of rows in the resulting array\n",
        "result_array = np.lib.stride_tricks.sliding_window_view(Z, (num_rows,))\n",
        "\n",
        "print(\"Original array Z:\", Z)\n",
        "print(\"Resulting two-dimensional array:\")\n",
        "print(result_array)"
      ],
      "id": "3c2373ff"
    },
    {
      "cell_type": "markdown",
      "metadata": {
        "id": "119ab5af"
      },
      "source": [
        "#### 78. Consider 2 sets of points P0,P1 describing lines (2d) and a point p, how to compute distance from p to each line i (P0[i],P1[i])? (★★★)"
      ],
      "id": "119ab5af"
    },
    {
      "cell_type": "code",
      "execution_count": null,
      "metadata": {
        "id": "1d8d06dc",
        "colab": {
          "base_uri": "https://localhost:8080/"
        },
        "outputId": "ba3abdfe-e65c-4bfd-de64-02232692adc8"
      },
      "outputs": [
        {
          "output_type": "stream",
          "name": "stdout",
          "text": [
            "Point P: [0, 0]\n",
            "Lines defined by P0 and P1:\n",
            "Line 1: [-1, -1] to [1, 1]\n",
            "Line 2: [1, 1] to [2, 2]\n",
            "Line 3: [0, -1] to [1, 0]\n",
            "Distances from P to each line: [0.0, 0.0, 0.7071067811865475]\n"
          ]
        }
      ],
      "source": [
        "\n",
        "import numpy as np\n",
        "\n",
        "def point_to_line_distance(p, P0, P1):\n",
        "    # Convert points to NumPy arrays\n",
        "    p = np.array(p)\n",
        "    P0 = np.array(P0)\n",
        "    P1 = np.array(P1)\n",
        "\n",
        "    # Calculate the direction vector of the line\n",
        "    line_direction = P1 - P0\n",
        "\n",
        "    # Calculate the vector from P0 to the point p\n",
        "    vector_to_point = p - P0\n",
        "\n",
        "    # Calculate the distance using the formula\n",
        "    distance = np.abs(np.cross(line_direction, vector_to_point)) / np.linalg.norm(line_direction)\n",
        "\n",
        "    return distance\n",
        "\n",
        "# Example usage:\n",
        "p = [0, 0]\n",
        "P0 = [[-1, -1], [1, 1], [0, -1]]\n",
        "P1 = [[1, 1], [2, 2], [1, 0]]\n",
        "\n",
        "distances = [point_to_line_distance(p, P0[i], P1[i]) for i in range(len(P0))]\n",
        "\n",
        "print(\"Point P:\", p)\n",
        "print(\"Lines defined by P0 and P1:\")\n",
        "for i, (p0, p1) in enumerate(zip(P0, P1)):\n",
        "    print(f\"Line {i + 1}: {p0} to {p1}\")\n",
        "print(\"Distances from P to each line:\", distances)"
      ],
      "id": "1d8d06dc"
    },
    {
      "cell_type": "markdown",
      "metadata": {
        "id": "e5e7f323"
      },
      "source": [
        "#### 79. Consider 2 sets of points P0,P1 describing lines (2d) and a set of points P, how to compute distance from each point j (P[j]) to each line i (P0[i],P1[i])? (★★★)"
      ],
      "id": "e5e7f323"
    },
    {
      "cell_type": "code",
      "execution_count": null,
      "metadata": {
        "id": "d0ce77e2",
        "colab": {
          "base_uri": "https://localhost:8080/"
        },
        "outputId": "0fd27dc9-143c-4026-ceef-42c98b21f5fa"
      },
      "outputs": [
        {
          "output_type": "stream",
          "name": "stdout",
          "text": [
            "Original array Z: [1 2 3 4 5 6 7 8 9]\n",
            "Resulting two-dimensional array:\n",
            "[[1 2 3]\n",
            " [2 3 4]\n",
            " [3 4 5]\n",
            " [4 5 6]\n",
            " [5 6 7]\n",
            " [6 7 8]\n",
            " [7 8 9]]\n"
          ]
        }
      ],
      "source": [
        "\n",
        "import numpy as np\n",
        "\n",
        "# Assuming Z is your one-dimensional array\n",
        "Z = np.array([1, 2, 3, 4, 5, 6, 7, 8, 9])\n",
        "\n",
        "# Build the two-dimensional array with shifted rows\n",
        "num_rows = 3\n",
        "result_array = np.lib.stride_tricks.sliding_window_view(Z, (num_rows,))\n",
        "\n",
        "print(\"Original array Z:\", Z)\n",
        "print(\"Resulting two-dimensional array:\")\n",
        "print(result_array)"
      ],
      "id": "d0ce77e2"
    },
    {
      "cell_type": "markdown",
      "metadata": {
        "id": "9b9d03eb"
      },
      "source": [
        "#### 80. Consider an arbitrary array, write a function that extract a subpart with a fixed shape and centered on a given element (pad with a `fill` value when necessary) (★★★)"
      ],
      "id": "9b9d03eb"
    },
    {
      "cell_type": "code",
      "execution_count": null,
      "metadata": {
        "id": "ec2b7ae3",
        "colab": {
          "base_uri": "https://localhost:8080/"
        },
        "outputId": "8489041c-7193-42d4-95e7-0ace49463085"
      },
      "outputs": [
        {
          "output_type": "stream",
          "name": "stdout",
          "text": [
            "Original array:\n",
            "[[ 1  2  3  4  5]\n",
            " [ 6  7  8  9 10]\n",
            " [11 12 13 14 15]]\n",
            "\n",
            "Extracted subpart:\n",
            "[[ 2  3  4]\n",
            " [ 7  8  9]\n",
            " [12 13 14]]\n"
          ]
        }
      ],
      "source": [
        "\n",
        "import numpy as np\n",
        "\n",
        "def extract_subpart(array, shape, center, fill_value=0):\n",
        "    \"\"\"\n",
        "    Extract a subpart with a fixed shape centered on a given element.\n",
        "\n",
        "    Parameters:\n",
        "    - array: The input array.\n",
        "    - shape: Tuple specifying the desired shape (rows, columns).\n",
        "    - center: Tuple specifying the center element (row, column).\n",
        "    - fill_value: Value used for padding when necessary.\n",
        "\n",
        "    Returns:\n",
        "    - subpart: Extracted subpart with the specified shape.\n",
        "    \"\"\"\n",
        "\n",
        "    # Calculate half of the shape for padding\n",
        "    half_shape = np.array(shape) // 2\n",
        "\n",
        "    # Calculate the start and end indices for the subpart\n",
        "    start_row = max(0, center[0] - half_shape[0])\n",
        "    end_row = min(array.shape[0], center[0] + half_shape[0] + 1)\n",
        "    start_col = max(0, center[1] - half_shape[1])\n",
        "    end_col = min(array.shape[1], center[1] + half_shape[1] + 1)\n",
        "\n",
        "    # Create a padded array with the specified fill value\n",
        "    padded_array = np.full(shape, fill_value, dtype=array.dtype)\n",
        "\n",
        "    # Calculate the corresponding indices in the padded array\n",
        "    padded_start_row = half_shape[0] - min(center[0], half_shape[0])\n",
        "    padded_end_row = padded_start_row + (end_row - start_row)\n",
        "    padded_start_col = half_shape[1] - min(center[1], half_shape[1])\n",
        "    padded_end_col = padded_start_col + (end_col - start_col)\n",
        "\n",
        "    # Copy the valid part of the original array to the padded array\n",
        "    padded_array[padded_start_row:padded_end_row, padded_start_col:padded_end_col] = array[start_row:end_row, start_col:end_col]\n",
        "\n",
        "    return padded_array\n",
        "\n",
        "# Example usage:\n",
        "arbitrary_array = np.array([[1, 2, 3, 4, 5],\n",
        "                            [6, 7, 8, 9, 10],\n",
        "                            [11, 12, 13, 14, 15]])\n",
        "\n",
        "fixed_shape = (3, 3)\n",
        "center_element = (1, 2)\n",
        "\n",
        "result_subpart = extract_subpart(arbitrary_array, fixed_shape, center_element, fill_value=-1)\n",
        "\n",
        "print(\"Original array:\")\n",
        "print(arbitrary_array)\n",
        "print(\"\\nExtracted subpart:\")\n",
        "print(result_subpart)"
      ],
      "id": "ec2b7ae3"
    },
    {
      "cell_type": "markdown",
      "metadata": {
        "id": "27794913"
      },
      "source": [
        "#### 81. Consider an array Z = [1,2,3,4,5,6,7,8,9,10,11,12,13,14], how to generate an array R = [[1,2,3,4], [2,3,4,5], [3,4,5,6], ..., [11,12,13,14]]? (★★★)"
      ],
      "id": "27794913"
    },
    {
      "cell_type": "code",
      "execution_count": null,
      "metadata": {
        "id": "f3e7878b",
        "outputId": "f2c2d851-3c23-4c02-c493-bf064f6025c0",
        "colab": {
          "base_uri": "https://localhost:8080/"
        }
      },
      "outputs": [
        {
          "output_type": "stream",
          "name": "stdout",
          "text": [
            "Original array Z: [ 1  2  3  4  5  6  7  8  9 10 11 12 13 14]\n",
            "Resulting array R:\n",
            "[[ 1  2  3  4]\n",
            " [ 2  3  4  5]\n",
            " [ 3  4  5  6]\n",
            " [ 4  5  6  7]\n",
            " [ 5  6  7  8]\n",
            " [ 6  7  8  9]\n",
            " [ 7  8  9 10]\n",
            " [ 8  9 10 11]\n",
            " [ 9 10 11 12]\n",
            " [10 11 12 13]\n",
            " [11 12 13 14]]\n"
          ]
        }
      ],
      "source": [
        "\n",
        "import numpy as np\n",
        "\n",
        "Z = np.array([1, 2, 3, 4, 5, 6, 7, 8, 9, 10, 11, 12, 13, 14])\n",
        "\n",
        "# Set the size of the subarrays in R\n",
        "subarray_size = 4\n",
        "\n",
        "# Generate the array R using array slicing\n",
        "R = np.lib.stride_tricks.sliding_window_view(Z, (subarray_size,))\n",
        "\n",
        "print(\"Original array Z:\", Z)\n",
        "print(\"Resulting array R:\")\n",
        "print(R)"
      ],
      "id": "f3e7878b"
    },
    {
      "cell_type": "markdown",
      "metadata": {
        "id": "fae786f5"
      },
      "source": [
        "#### 82. Compute a matrix rank (★★★)"
      ],
      "id": "fae786f5"
    },
    {
      "cell_type": "code",
      "execution_count": null,
      "metadata": {
        "id": "64b9615b",
        "colab": {
          "base_uri": "https://localhost:8080/"
        },
        "outputId": "09b58d38-60de-428f-ab88-64437d3a74bf"
      },
      "outputs": [
        {
          "output_type": "stream",
          "name": "stdout",
          "text": [
            "Matrix:\n",
            "[[1 2 3]\n",
            " [4 5 6]\n",
            " [7 8 9]]\n",
            "Rank of the matrix: 2\n"
          ]
        }
      ],
      "source": [
        "\n",
        "import numpy as np\n",
        "\n",
        "# Create a matrix (example)\n",
        "matrix = np.array([[1, 2, 3],\n",
        "                   [4, 5, 6],\n",
        "                   [7, 8, 9]])\n",
        "\n",
        "# Compute the rank of the matrix\n",
        "rank = np.linalg.matrix_rank(matrix)\n",
        "\n",
        "print(\"Matrix:\")\n",
        "print(matrix)\n",
        "print(\"Rank of the matrix:\", rank)"
      ],
      "id": "64b9615b"
    },
    {
      "cell_type": "markdown",
      "metadata": {
        "id": "c85aa0b9"
      },
      "source": [
        "#### 83. How to find the most frequent value in an array?"
      ],
      "id": "c85aa0b9"
    },
    {
      "cell_type": "code",
      "execution_count": null,
      "metadata": {
        "id": "056be85b",
        "colab": {
          "base_uri": "https://localhost:8080/"
        },
        "outputId": "04984601-1a16-4b95-cbb2-1649189d7cb3"
      },
      "outputs": [
        {
          "output_type": "stream",
          "name": "stdout",
          "text": [
            "Array: [1 2 3 2 2 4 5 2 6 2]\n",
            "Most frequent value: 2\n"
          ]
        }
      ],
      "source": [
        "\n",
        "import numpy as np\n",
        "\n",
        "# Assuming arr is your array\n",
        "arr = np.array([1, 2, 3, 2, 2, 4, 5, 2, 6, 2])\n",
        "\n",
        "# Find the most frequent value\n",
        "most_frequent_value = np.bincount(arr).argmax()\n",
        "\n",
        "print(\"Array:\", arr)\n",
        "print(\"Most frequent value:\", most_frequent_value)"
      ],
      "id": "056be85b"
    },
    {
      "cell_type": "markdown",
      "metadata": {
        "id": "0ff2344d"
      },
      "source": [
        "#### 84. Extract all the contiguous 3x3 blocks from a random 10x10 matrix (★★★)"
      ],
      "id": "0ff2344d"
    },
    {
      "cell_type": "code",
      "execution_count": null,
      "metadata": {
        "id": "d58b1318",
        "colab": {
          "base_uri": "https://localhost:8080/"
        },
        "outputId": "2690d34b-eace-417b-ae98-930c79f441fb"
      },
      "outputs": [
        {
          "output_type": "stream",
          "name": "stdout",
          "text": [
            "Original matrix:\n",
            "[[79 45 44 69 24  2 80 50 42 22]\n",
            " [35 25 19 72  4 54  3 54 98 56]\n",
            " [97 96 34 39  3 79 76  6 94 93]\n",
            " [68 46 73 18 86 46 59 29 18 76]\n",
            " [14  9 26 30 77 89 22 26 30 56]\n",
            " [13 94 53  8  3 35 64 89 42 12]\n",
            " [53 33 97 32 90 64 30 17 91 14]\n",
            " [40 50  9  2 20 96 16 75  2 47]\n",
            " [22 30 67 10 35 96 12 19 49 18]\n",
            " [ 6 95 14 91 39 73 32 53 38 73]]\n",
            "\n",
            "Extracted 3x3 blocks:\n",
            "[[[79 45 44]\n",
            "  [35 25 19]\n",
            "  [97 96 34]]\n",
            "\n",
            " [[45 44 69]\n",
            "  [25 19 72]\n",
            "  [96 34 39]]\n",
            "\n",
            " [[44 69 24]\n",
            "  [19 72  4]\n",
            "  [34 39  3]]\n",
            "\n",
            " [[69 24  2]\n",
            "  [72  4 54]\n",
            "  [39  3 79]]\n",
            "\n",
            " [[24  2 80]\n",
            "  [ 4 54  3]\n",
            "  [ 3 79 76]]\n",
            "\n",
            " [[ 2 80 50]\n",
            "  [54  3 54]\n",
            "  [79 76  6]]\n",
            "\n",
            " [[80 50 42]\n",
            "  [ 3 54 98]\n",
            "  [76  6 94]]\n",
            "\n",
            " [[50 42 22]\n",
            "  [54 98 56]\n",
            "  [ 6 94 93]]\n",
            "\n",
            " [[35 25 19]\n",
            "  [97 96 34]\n",
            "  [68 46 73]]\n",
            "\n",
            " [[25 19 72]\n",
            "  [96 34 39]\n",
            "  [46 73 18]]\n",
            "\n",
            " [[19 72  4]\n",
            "  [34 39  3]\n",
            "  [73 18 86]]\n",
            "\n",
            " [[72  4 54]\n",
            "  [39  3 79]\n",
            "  [18 86 46]]\n",
            "\n",
            " [[ 4 54  3]\n",
            "  [ 3 79 76]\n",
            "  [86 46 59]]\n",
            "\n",
            " [[54  3 54]\n",
            "  [79 76  6]\n",
            "  [46 59 29]]\n",
            "\n",
            " [[ 3 54 98]\n",
            "  [76  6 94]\n",
            "  [59 29 18]]\n",
            "\n",
            " [[54 98 56]\n",
            "  [ 6 94 93]\n",
            "  [29 18 76]]\n",
            "\n",
            " [[97 96 34]\n",
            "  [68 46 73]\n",
            "  [14  9 26]]\n",
            "\n",
            " [[96 34 39]\n",
            "  [46 73 18]\n",
            "  [ 9 26 30]]\n",
            "\n",
            " [[34 39  3]\n",
            "  [73 18 86]\n",
            "  [26 30 77]]\n",
            "\n",
            " [[39  3 79]\n",
            "  [18 86 46]\n",
            "  [30 77 89]]\n",
            "\n",
            " [[ 3 79 76]\n",
            "  [86 46 59]\n",
            "  [77 89 22]]\n",
            "\n",
            " [[79 76  6]\n",
            "  [46 59 29]\n",
            "  [89 22 26]]\n",
            "\n",
            " [[76  6 94]\n",
            "  [59 29 18]\n",
            "  [22 26 30]]\n",
            "\n",
            " [[ 6 94 93]\n",
            "  [29 18 76]\n",
            "  [26 30 56]]\n",
            "\n",
            " [[68 46 73]\n",
            "  [14  9 26]\n",
            "  [13 94 53]]\n",
            "\n",
            " [[46 73 18]\n",
            "  [ 9 26 30]\n",
            "  [94 53  8]]\n",
            "\n",
            " [[73 18 86]\n",
            "  [26 30 77]\n",
            "  [53  8  3]]\n",
            "\n",
            " [[18 86 46]\n",
            "  [30 77 89]\n",
            "  [ 8  3 35]]\n",
            "\n",
            " [[86 46 59]\n",
            "  [77 89 22]\n",
            "  [ 3 35 64]]\n",
            "\n",
            " [[46 59 29]\n",
            "  [89 22 26]\n",
            "  [35 64 89]]\n",
            "\n",
            " [[59 29 18]\n",
            "  [22 26 30]\n",
            "  [64 89 42]]\n",
            "\n",
            " [[29 18 76]\n",
            "  [26 30 56]\n",
            "  [89 42 12]]\n",
            "\n",
            " [[14  9 26]\n",
            "  [13 94 53]\n",
            "  [53 33 97]]\n",
            "\n",
            " [[ 9 26 30]\n",
            "  [94 53  8]\n",
            "  [33 97 32]]\n",
            "\n",
            " [[26 30 77]\n",
            "  [53  8  3]\n",
            "  [97 32 90]]\n",
            "\n",
            " [[30 77 89]\n",
            "  [ 8  3 35]\n",
            "  [32 90 64]]\n",
            "\n",
            " [[77 89 22]\n",
            "  [ 3 35 64]\n",
            "  [90 64 30]]\n",
            "\n",
            " [[89 22 26]\n",
            "  [35 64 89]\n",
            "  [64 30 17]]\n",
            "\n",
            " [[22 26 30]\n",
            "  [64 89 42]\n",
            "  [30 17 91]]\n",
            "\n",
            " [[26 30 56]\n",
            "  [89 42 12]\n",
            "  [17 91 14]]\n",
            "\n",
            " [[13 94 53]\n",
            "  [53 33 97]\n",
            "  [40 50  9]]\n",
            "\n",
            " [[94 53  8]\n",
            "  [33 97 32]\n",
            "  [50  9  2]]\n",
            "\n",
            " [[53  8  3]\n",
            "  [97 32 90]\n",
            "  [ 9  2 20]]\n",
            "\n",
            " [[ 8  3 35]\n",
            "  [32 90 64]\n",
            "  [ 2 20 96]]\n",
            "\n",
            " [[ 3 35 64]\n",
            "  [90 64 30]\n",
            "  [20 96 16]]\n",
            "\n",
            " [[35 64 89]\n",
            "  [64 30 17]\n",
            "  [96 16 75]]\n",
            "\n",
            " [[64 89 42]\n",
            "  [30 17 91]\n",
            "  [16 75  2]]\n",
            "\n",
            " [[89 42 12]\n",
            "  [17 91 14]\n",
            "  [75  2 47]]\n",
            "\n",
            " [[53 33 97]\n",
            "  [40 50  9]\n",
            "  [22 30 67]]\n",
            "\n",
            " [[33 97 32]\n",
            "  [50  9  2]\n",
            "  [30 67 10]]\n",
            "\n",
            " [[97 32 90]\n",
            "  [ 9  2 20]\n",
            "  [67 10 35]]\n",
            "\n",
            " [[32 90 64]\n",
            "  [ 2 20 96]\n",
            "  [10 35 96]]\n",
            "\n",
            " [[90 64 30]\n",
            "  [20 96 16]\n",
            "  [35 96 12]]\n",
            "\n",
            " [[64 30 17]\n",
            "  [96 16 75]\n",
            "  [96 12 19]]\n",
            "\n",
            " [[30 17 91]\n",
            "  [16 75  2]\n",
            "  [12 19 49]]\n",
            "\n",
            " [[17 91 14]\n",
            "  [75  2 47]\n",
            "  [19 49 18]]\n",
            "\n",
            " [[40 50  9]\n",
            "  [22 30 67]\n",
            "  [ 6 95 14]]\n",
            "\n",
            " [[50  9  2]\n",
            "  [30 67 10]\n",
            "  [95 14 91]]\n",
            "\n",
            " [[ 9  2 20]\n",
            "  [67 10 35]\n",
            "  [14 91 39]]\n",
            "\n",
            " [[ 2 20 96]\n",
            "  [10 35 96]\n",
            "  [91 39 73]]\n",
            "\n",
            " [[20 96 16]\n",
            "  [35 96 12]\n",
            "  [39 73 32]]\n",
            "\n",
            " [[96 16 75]\n",
            "  [96 12 19]\n",
            "  [73 32 53]]\n",
            "\n",
            " [[16 75  2]\n",
            "  [12 19 49]\n",
            "  [32 53 38]]\n",
            "\n",
            " [[75  2 47]\n",
            "  [19 49 18]\n",
            "  [53 38 73]]]\n"
          ]
        }
      ],
      "source": [
        "\n",
        "import numpy as np\n",
        "\n",
        "# Create a random 10x10 matrix (example)\n",
        "matrix = np.random.randint(1, 100, size=(10, 10))\n",
        "\n",
        "# Size of the block\n",
        "block_size = 3\n",
        "\n",
        "# Extract contiguous 3x3 blocks\n",
        "blocks = []\n",
        "for i in range(matrix.shape[0] - block_size + 1):\n",
        "    for j in range(matrix.shape[1] - block_size + 1):\n",
        "        block = matrix[i:i+block_size, j:j+block_size]\n",
        "        blocks.append(block)\n",
        "\n",
        "# Convert the list of blocks to a NumPy array\n",
        "blocks_array = np.array(blocks)\n",
        "\n",
        "# Print the original matrix and the extracted blocks\n",
        "print(\"Original matrix:\")\n",
        "print(matrix)\n",
        "print(\"\\nExtracted 3x3 blocks:\")\n",
        "print(blocks_array)"
      ],
      "id": "d58b1318"
    },
    {
      "cell_type": "markdown",
      "metadata": {
        "id": "1a18b263"
      },
      "source": [
        "#### 85. Create a 2D array subclass such that Z[i,j] == Z[j,i] (★★★)"
      ],
      "id": "1a18b263"
    },
    {
      "cell_type": "code",
      "execution_count": null,
      "metadata": {
        "id": "87f17adc",
        "colab": {
          "base_uri": "https://localhost:8080/"
        },
        "outputId": "dec89127-666a-4f6a-be49-15a8d666362c"
      },
      "outputs": [
        {
          "output_type": "stream",
          "name": "stdout",
          "text": [
            "Original array:\n",
            "[[1 2 3]\n",
            " [4 5 6]\n",
            " [7 8 9]]\n",
            "\n",
            "Symmetric array:\n",
            "[[1 2 3]\n",
            " [2 5 6]\n",
            " [3 6 9]]\n"
          ]
        }
      ],
      "source": [
        "\n",
        "import numpy as np\n",
        "\n",
        "class SymmetricArray(np.ndarray):\n",
        "    def __getitem__(self, index):\n",
        "        # Enforce symmetry when accessing elements\n",
        "        i, j = index\n",
        "        return super().__getitem__((i, j)) if i <= j else super().__getitem__((j, i))\n",
        "\n",
        "# Example usage:\n",
        "original_array = np.array([[1, 2, 3],\n",
        "                          [4, 5, 6],\n",
        "                          [7, 8, 9]])\n",
        "\n",
        "# Create a SymmetricArray instance\n",
        "symmetric_array = SymmetricArray(original_array.shape, dtype=original_array.dtype)\n",
        "\n",
        "# Populate the symmetric_array with values from the original array\n",
        "symmetric_array[:,:] = original_array\n",
        "\n",
        "# Verify the symmetry property\n",
        "print(\"Original array:\")\n",
        "print(original_array)\n",
        "print(\"\\nSymmetric array:\")\n",
        "print(symmetric_array)"
      ],
      "id": "87f17adc"
    },
    {
      "cell_type": "markdown",
      "metadata": {
        "id": "f85f2cad"
      },
      "source": [
        "#### 86. Consider a set of p matrices wich shape (n,n) and a set of p vectors with shape (n,1). How to compute the sum of of the p matrix products at once? (result has shape (n,1)) (★★★)"
      ],
      "id": "f85f2cad"
    },
    {
      "cell_type": "code",
      "execution_count": null,
      "metadata": {
        "id": "8d230557",
        "colab": {
          "base_uri": "https://localhost:8080/"
        },
        "outputId": "cf7f5a92-cbfe-4f1b-a031-fd7d4beea532"
      },
      "outputs": [
        {
          "output_type": "stream",
          "name": "stdout",
          "text": [
            "Resulting sum (shape (n, 1)):\n",
            "[[3.30745447]\n",
            " [3.55221855]\n",
            " [3.86688057]\n",
            " [3.1833488 ]]\n"
          ]
        }
      ],
      "source": [
        "\n",
        "import numpy as np\n",
        "\n",
        "# Assuming matrices is a list of p matrices and vectors is a list of p vectors\n",
        "p = 3  # Number of matrices and vectors\n",
        "n = 4  # Size of matrices and vectors\n",
        "\n",
        "matrices = [np.random.rand(n, n) for _ in range(p)]\n",
        "vectors = [np.random.rand(n, 1) for _ in range(p)]\n",
        "\n",
        "# Compute the sum of the p matrix products\n",
        "result = np.sum([np.dot(matrices[i], vectors[i]) for i in range(p)], axis=0)\n",
        "\n",
        "print(\"Resulting sum (shape (n, 1)):\")\n",
        "print(result)"
      ],
      "id": "8d230557"
    },
    {
      "cell_type": "markdown",
      "metadata": {
        "id": "5afb72c8"
      },
      "source": [
        "#### 87. Consider a 16x16 array, how to get the block-sum (block size is 4x4)? (★★★)"
      ],
      "id": "5afb72c8"
    },
    {
      "cell_type": "code",
      "execution_count": null,
      "metadata": {
        "id": "e86f47a9",
        "colab": {
          "base_uri": "https://localhost:8080/"
        },
        "outputId": "b4353868-c1c9-4426-d75d-e9c06a9fa44e"
      },
      "outputs": [
        {
          "output_type": "stream",
          "name": "stdout",
          "text": [
            "Original array:\n",
            "[[6 6 2 9 3 9 3 5 5 3 4 2 9 9 8 1]\n",
            " [3 8 9 3 4 6 7 5 3 5 8 7 4 7 5 7]\n",
            " [9 5 2 7 8 8 8 3 9 7 1 6 7 1 9 1]\n",
            " [5 8 6 5 5 7 8 2 2 3 3 5 3 2 9 5]\n",
            " [4 2 7 4 3 9 3 2 6 3 9 4 9 4 8 2]\n",
            " [9 2 4 2 4 6 5 8 7 1 2 7 5 8 1 9]\n",
            " [7 4 4 1 9 1 1 7 9 6 2 2 7 8 7 6]\n",
            " [8 8 6 8 1 5 1 9 8 6 9 8 8 7 3 3]\n",
            " [8 6 6 6 9 6 7 6 7 8 7 5 8 3 9 7]\n",
            " [3 1 3 4 7 1 2 1 8 3 8 6 7 4 9 3]\n",
            " [3 2 6 4 7 8 3 9 8 7 1 9 6 9 4 6]\n",
            " [1 8 8 7 2 9 1 2 9 2 6 5 3 4 8 4]\n",
            " [9 2 3 7 9 6 3 7 1 3 3 4 1 9 1 8]\n",
            " [5 3 9 7 2 1 7 3 7 8 5 2 3 2 3 6]\n",
            " [5 1 8 6 9 9 7 6 2 3 4 6 5 8 6 2]\n",
            " [7 9 8 6 6 8 6 8 4 5 2 5 9 9 9 7]]\n",
            "\n",
            "Block-sum (block size 4x4):\n",
            "[[93 91 73 87]\n",
            " [80 74 89 95]\n",
            " [76 80 99 94]\n",
            " [95 97 64 88]]\n"
          ]
        }
      ],
      "source": [
        "\n",
        "import numpy as np\n",
        "\n",
        "# Assuming arr is your 16x16 array\n",
        "arr = np.random.randint(1, 10, size=(16, 16))\n",
        "\n",
        "# Define the block size\n",
        "block_size = 4\n",
        "\n",
        "# Reshape the array to have dimensions divisible by the block size\n",
        "reshaped_arr = arr.reshape((arr.shape[0] // block_size, block_size, arr.shape[1] // block_size, block_size))\n",
        "\n",
        "# Calculate the block-sum\n",
        "block_sum = np.sum(reshaped_arr, axis=(1, 3))\n",
        "\n",
        "print(\"Original array:\")\n",
        "print(arr)\n",
        "print(\"\\nBlock-sum (block size 4x4):\")\n",
        "print(block_sum)"
      ],
      "id": "e86f47a9"
    },
    {
      "cell_type": "markdown",
      "metadata": {
        "id": "6094d37c"
      },
      "source": [
        "#### 88. How to implement the Game of Life using numpy arrays? (★★★)"
      ],
      "id": "6094d37c"
    },
    {
      "cell_type": "code",
      "execution_count": null,
      "metadata": {
        "id": "a93e715f",
        "colab": {
          "base_uri": "https://localhost:8080/",
          "height": 343
        },
        "outputId": "cd728f97-0ea5-41b0-c66f-74c1a6b11f9c"
      },
      "outputs": [
        {
          "output_type": "stream",
          "name": "stderr",
          "text": [
            "<ipython-input-26-55e5e3c20fe5>:40: UserWarning: You passed in an explicit save_count=50 which is being ignored in favor of frames=10.\n",
            "  ani = animation.FuncAnimation(fig, update, fargs=(img, grid, N), frames=10, interval=200, save_count=50)\n"
          ]
        },
        {
          "output_type": "display_data",
          "data": {
            "text/plain": [
              "<Figure size 640x480 with 1 Axes>"
            ],
            "image/png": "[encoded data removed]"
          },
          "metadata": {}
        }
      ],
      "source": [
        "\n",
        "import numpy as np\n",
        "import matplotlib.pyplot as plt\n",
        "import matplotlib.animation as animation\n",
        "\n",
        "def update(frameNum, img, grid, N):\n",
        "    # Copy the current grid to avoid modifying it in-place\n",
        "    newGrid = grid.copy()\n",
        "    for i in range(N):\n",
        "        for j in range(N):\n",
        "            # Count live neighbors\n",
        "            total = int((grid[i, (j-1)%N] + grid[i, (j+1)%N] +\n",
        "                         grid[(i-1)%N, j] + grid[(i+1)%N, j] +\n",
        "                         grid[(i-1)%N, (j-1)%N] + grid[(i-1)%N, (j+1)%N] +\n",
        "                         grid[(i+1)%N, (j-1)%N] + grid[(i+1)%N, (j+1)%N])/255)\n",
        "\n",
        "            # Apply rules\n",
        "            if grid[i, j] == ON:\n",
        "                if (total < 2) or (total > 3):\n",
        "                    newGrid[i, j] = OFF\n",
        "            else:\n",
        "                if total == 3:\n",
        "                    newGrid[i, j] = ON\n",
        "\n",
        "    # Update data\n",
        "    img.set_data(newGrid)\n",
        "    grid[:] = newGrid[:]\n",
        "    return img\n",
        "\n",
        "# Define constants\n",
        "ON = 255\n",
        "OFF = 0\n",
        "N = 100\n",
        "\n",
        "# Create a random initial grid\n",
        "grid = np.random.choice([ON, OFF], N*N, p=[0.2, 0.8]).reshape(N, N)\n",
        "\n",
        "# Set up the animation\n",
        "fig, ax = plt.subplots()\n",
        "img = ax.imshow(grid, interpolation='nearest')\n",
        "ani = animation.FuncAnimation(fig, update, fargs=(img, grid, N), frames=10, interval=200, save_count=50)\n",
        "\n",
        "plt.show()"
      ],
      "id": "a93e715f"
    },
    {
      "cell_type": "markdown",
      "metadata": {
        "id": "a173cf96"
      },
      "source": [
        "#### 89. How to get the n largest values of an array (★★★)"
      ],
      "id": "a173cf96"
    },
    {
      "cell_type": "code",
      "execution_count": null,
      "metadata": {
        "id": "b7c2ff35",
        "colab": {
          "base_uri": "https://localhost:8080/"
        },
        "outputId": "67fe3592-305f-4889-a9f5-f61e2942a893"
      },
      "outputs": [
        {
          "output_type": "stream",
          "name": "stdout",
          "text": [
            "The 3 largest values are: [7 8 9]\n"
          ]
        }
      ],
      "source": [
        "\n",
        "import numpy as np\n",
        "\n",
        "# Assuming arr is your array\n",
        "arr = np.array([1, 5, 3, 7, 2, 9, 4, 8, 6])\n",
        "\n",
        "# Get indices of n largest values\n",
        "n = 3\n",
        "indices_of_largest = np.argsort(arr)[-n:]\n",
        "\n",
        "# Get the actual n largest values\n",
        "n_largest_values = arr[indices_of_largest]\n",
        "\n",
        "print(f\"The {n} largest values are:\", n_largest_values)"
      ],
      "id": "b7c2ff35"
    },
    {
      "cell_type": "markdown",
      "metadata": {
        "id": "15db2d01"
      },
      "source": [
        "#### 90. Given an arbitrary number of vectors, build the cartesian product (every combinations of every item) (★★★)"
      ],
      "id": "15db2d01"
    },
    {
      "cell_type": "code",
      "execution_count": null,
      "metadata": {
        "id": "a9a4633d",
        "colab": {
          "base_uri": "https://localhost:8080/"
        },
        "outputId": "4dc293a9-d4ef-45b5-b81d-659b1d77af42"
      },
      "outputs": [
        {
          "output_type": "stream",
          "name": "stdout",
          "text": [
            "Cartesian product:\n",
            "(1, 'a', True)\n",
            "(1, 'a', False)\n",
            "(1, 'b', True)\n",
            "(1, 'b', False)\n",
            "(2, 'a', True)\n",
            "(2, 'a', False)\n",
            "(2, 'b', True)\n",
            "(2, 'b', False)\n"
          ]
        }
      ],
      "source": [
        "\n",
        "from itertools import product\n",
        "\n",
        "# Assuming vec1, vec2, vec3, ... are your vectors\n",
        "vec1 = [1, 2]\n",
        "vec2 = ['a', 'b']\n",
        "vec3 = [True, False]\n",
        "\n",
        "# Build the Cartesian product\n",
        "cartesian_product = list(product(vec1, vec2, vec3))\n",
        "\n",
        "print(\"Cartesian product:\")\n",
        "for item in cartesian_product:\n",
        "    print(item)"
      ],
      "id": "a9a4633d"
    },
    {
      "cell_type": "markdown",
      "metadata": {
        "id": "5d94d1ef"
      },
      "source": [
        "#### 91. How to create a record array from a regular array? (★★★)"
      ],
      "id": "5d94d1ef"
    },
    {
      "cell_type": "code",
      "execution_count": null,
      "metadata": {
        "id": "b1dae380",
        "colab": {
          "base_uri": "https://localhost:8080/"
        },
        "outputId": "061a8ad9-e580-42c2-ee8e-cfad2e7009f9"
      },
      "outputs": [
        {
          "output_type": "stream",
          "name": "stdout",
          "text": [
            "Record array:\n",
            "[('1', 'Alice', '25') ('2', 'Bob', '30') ('3', 'Charlie', '35')]\n"
          ]
        }
      ],
      "source": [
        "\n",
        "import numpy as np\n",
        "\n",
        "# Assuming arr is your regular array\n",
        "arr = np.array([[1, 'Alice', 25],\n",
        "                [2, 'Bob', 30],\n",
        "                [3, 'Charlie', 35]])\n",
        "\n",
        "# Define the names for each field in the record array\n",
        "names = ['ID', 'Name', 'Age']\n",
        "\n",
        "# Create the record array\n",
        "record_arr = np.core.records.fromarrays(arr.transpose(), names=names)\n",
        "\n",
        "print(\"Record array:\")\n",
        "print(record_arr)"
      ],
      "id": "b1dae380"
    },
    {
      "cell_type": "markdown",
      "metadata": {
        "id": "114ccc36"
      },
      "source": [
        "#### 92. Consider a large vector Z, compute Z to the power of 3 using 3 different methods (★★★)"
      ],
      "id": "114ccc36"
    },
    {
      "cell_type": "code",
      "execution_count": null,
      "metadata": {
        "id": "877c65d6"
      },
      "outputs": [],
      "source": [
        "\n",
        "import numpy as np\n",
        "\n",
        "Z = np.random.rand(1000000)  # Replace with your large vector\n",
        "\n",
        "result_method1 = np.power(Z, 3)"
      ],
      "id": "877c65d6"
    },
    {
      "cell_type": "code",
      "source": [
        "\n",
        "result_method2 = Z**3"
      ],
      "metadata": {
        "id": "lYAih4chWhdP"
      },
      "id": "lYAih4chWhdP",
      "execution_count": null,
      "outputs": []
    },
    {
      "cell_type": "code",
      "source": [
        "\n",
        "result_method3 = [x**3 for x in Z]\n",
        "result_method3 = np.array(result_method3)"
      ],
      "metadata": {
        "id": "hTyyFpPhWoPQ"
      },
      "id": "hTyyFpPhWoPQ",
      "execution_count": null,
      "outputs": []
    },
    {
      "cell_type": "markdown",
      "metadata": {
        "id": "d614fee4"
      },
      "source": [
        "#### 93. Consider two arrays A and B of shape (8,3) and (2,2). How to find rows of A that contain elements of each row of B regardless of the order of the elements in B? (★★★)"
      ],
      "id": "d614fee4"
    },
    {
      "cell_type": "code",
      "execution_count": null,
      "metadata": {
        "id": "e6807a84",
        "colab": {
          "base_uri": "https://localhost:8080/"
        },
        "outputId": "9ae460d0-49e6-4860-ae1e-84c33739a70e"
      },
      "outputs": [
        {
          "output_type": "stream",
          "name": "stdout",
          "text": [
            "[]\n"
          ]
        }
      ],
      "source": [
        "\n",
        "import numpy as np\n",
        "\n",
        "A = np.array([[1, 2, 3],\n",
        "              [4, 5, 6],\n",
        "              [7, 8, 9],\n",
        "              [1, 2, 3],\n",
        "              [4, 5, 6],\n",
        "              [7, 8, 9],\n",
        "              [0, 0, 0],\n",
        "              [1, 1, 1]])\n",
        "\n",
        "B = np.array([[2, 3],\n",
        "              [5, 4]])\n",
        "\n",
        "rows_with_elements = np.all(np.isin(A, B), axis=1)\n",
        "result = A[rows_with_elements]\n",
        "\n",
        "print(result)"
      ],
      "id": "e6807a84"
    },
    {
      "cell_type": "markdown",
      "metadata": {
        "id": "b0eedca6"
      },
      "source": [
        "#### 94. Considering a 10x3 matrix, extract rows with unequal values (e.g. [2,2,3]) (★★★)"
      ],
      "id": "b0eedca6"
    },
    {
      "cell_type": "code",
      "execution_count": null,
      "metadata": {
        "id": "fc136ce2",
        "colab": {
          "base_uri": "https://localhost:8080/"
        },
        "outputId": "487bb98e-0852-430c-a4f4-f470bc68341b"
      },
      "outputs": [
        {
          "output_type": "stream",
          "name": "stdout",
          "text": [
            "[[2 3 1]\n",
            " [1 2 3]\n",
            " [2 2 3]\n",
            " [1 2 3]\n",
            " [2 2 3]\n",
            " [2 3 3]\n",
            " [1 3 1]\n",
            " [1 3 1]\n",
            " [1 2 2]\n",
            " [1 1 2]]\n"
          ]
        }
      ],
      "source": [
        "\n",
        "import numpy as np\n",
        "\n",
        "# Assuming you have a 10x3 matrix named 'matrix'\n",
        "matrix = np.random.randint(1, 4, size=(10, 3))  # Example random matrix\n",
        "\n",
        "# Extract rows with unequal values\n",
        "unequal_rows = matrix[(matrix[:, 0] != matrix[:, 1]) | (matrix[:, 1] != matrix[:, 2])]\n",
        "\n",
        "print(unequal_rows)"
      ],
      "id": "fc136ce2"
    },
    {
      "cell_type": "markdown",
      "metadata": {
        "id": "a65ec1cf"
      },
      "source": [
        "#### 95. Convert a vector of ints into a matrix binary representation (★★★)"
      ],
      "id": "a65ec1cf"
    },
    {
      "cell_type": "code",
      "execution_count": null,
      "metadata": {
        "id": "323cdf4c",
        "colab": {
          "base_uri": "https://localhost:8080/"
        },
        "outputId": "aaf58ee0-5dfc-4168-9b7b-2a753f8be139"
      },
      "outputs": [
        {
          "output_type": "stream",
          "name": "stdout",
          "text": [
            "[[0 0 0 0 0 1 0 1]\n",
            " [0 0 0 0 1 0 1 0]\n",
            " [0 0 0 0 0 0 1 1]\n",
            " [0 0 0 0 0 1 1 1]]\n"
          ]
        }
      ],
      "source": [
        "\n",
        "import numpy as np\n",
        "\n",
        "# Assuming you have a vector of integers named 'int_vector'\n",
        "int_vector = np.array([5, 10, 3, 7])\n",
        "\n",
        "# Convert each integer to its binary representation and pad with zeros to a fixed width\n",
        "binary_matrix = np.array([list(np.binary_repr(num, width=8)) for num in int_vector], dtype=int)\n",
        "\n",
        "print(binary_matrix)"
      ],
      "id": "323cdf4c"
    },
    {
      "cell_type": "markdown",
      "metadata": {
        "id": "75b9397f"
      },
      "source": [
        "#### 96. Given a two dimensional array, how to extract unique rows? (★★★)"
      ],
      "id": "75b9397f"
    },
    {
      "cell_type": "code",
      "execution_count": null,
      "metadata": {
        "id": "9bb56a47",
        "colab": {
          "base_uri": "https://localhost:8080/"
        },
        "outputId": "c80d8543-25ff-44e9-cfef-d9ab08fd877d"
      },
      "outputs": [
        {
          "output_type": "stream",
          "name": "stdout",
          "text": [
            "[[1 2 3]\n",
            " [4 5 6]\n",
            " [7 8 9]]\n"
          ]
        }
      ],
      "source": [
        "\n",
        "import numpy as np\n",
        "\n",
        "# Assuming you have a two-dimensional array named 'array'\n",
        "array = np.array([[1, 2, 3],\n",
        "                  [4, 5, 6],\n",
        "                  [1, 2, 3],\n",
        "                  [7, 8, 9],\n",
        "                  [4, 5, 6]])\n",
        "\n",
        "# Use np.unique along axis 0 to get unique rows\n",
        "unique_rows = np.unique(array, axis=0)\n",
        "\n",
        "print(unique_rows)"
      ],
      "id": "9bb56a47"
    },
    {
      "cell_type": "markdown",
      "metadata": {
        "id": "82aaf21b"
      },
      "source": [
        "#### 97. Considering 2 vectors A & B, write the einsum equivalent of inner, outer, sum, and mul function (★★★)"
      ],
      "id": "82aaf21b"
    },
    {
      "cell_type": "code",
      "source": [
        "\n",
        "A = np.random.uniform(0,1,10)\n",
        "B = np.random.uniform(0,1,10)\n",
        "\n",
        "np.einsum('i->', A)\n",
        "np.einsum('i,i->i', A, B)\n",
        "np.einsum('i,i', A, B)\n",
        "np.einsum('i,j->ij', A, B)"
      ],
      "metadata": {
        "colab": {
          "base_uri": "https://localhost:8080/"
        },
        "id": "_Y7Je6z1k5W8",
        "outputId": "f77e34db-0cfc-4d6f-a5ef-2b95e4830a26"
      },
      "id": "_Y7Je6z1k5W8",
      "execution_count": null,
      "outputs": [
        {
          "output_type": "execute_result",
          "data": {
            "text/plain": [
              "array([[0.04637975, 0.1110144 , 0.1784798 , 0.06845782, 0.17549093,\n",
              "        0.11104508, 0.07319404, 0.01709589, 0.07050366, 0.04102941],\n",
              "       [0.02621605, 0.06275063, 0.1008853 , 0.03869563, 0.09919585,\n",
              "        0.06276798, 0.04137276, 0.00966341, 0.03985204, 0.02319178],\n",
              "       [0.07530965, 0.18026091, 0.28980864, 0.11115918, 0.28495542,\n",
              "        0.18031073, 0.11884966, 0.02775965, 0.11448114, 0.06662198],\n",
              "       [0.04776693, 0.11433475, 0.18381799, 0.07050534, 0.18073971,\n",
              "        0.11436635, 0.07538321, 0.01760722, 0.07261237, 0.04225657],\n",
              "       [0.14819047, 0.35470819, 0.5702706 , 0.21873334, 0.56072068,\n",
              "        0.35480622, 0.23386628, 0.05462403, 0.22527012, 0.13109531],\n",
              "       [0.10016609, 0.2397572 , 0.38546187, 0.14784799, 0.37900681,\n",
              "        0.23982346, 0.15807676, 0.03692191, 0.15226638, 0.08861099],\n",
              "       [0.20466361, 0.4898821 , 0.78759207, 0.3020893 , 0.77440282,\n",
              "        0.49001749, 0.32298917, 0.07544041, 0.31111715, 0.18105375],\n",
              "       [0.02838947, 0.06795293, 0.10924913, 0.04190366, 0.10741961,\n",
              "        0.06797171, 0.04480274, 0.01046455, 0.04315594, 0.02511448],\n",
              "       [0.06417903, 0.15361871, 0.2469755 , 0.09473007, 0.24283957,\n",
              "        0.15366116, 0.10128392, 0.02365683, 0.09756105, 0.05677538],\n",
              "       [0.17799991, 0.42605996, 0.6849841 , 0.26273292, 0.67351314,\n",
              "        0.42617771, 0.28090994, 0.06561199, 0.27058462, 0.15746596]])"
            ]
          },
          "metadata": {},
          "execution_count": 51
        }
      ]
    },
    {
      "cell_type": "markdown",
      "metadata": {
        "id": "7741e17f"
      },
      "source": [
        "#### 98. Considering a path described by two vectors (X,Y), how to sample it using equidistant samples (★★★)?"
      ],
      "id": "7741e17f"
    },
    {
      "cell_type": "code",
      "execution_count": null,
      "metadata": {
        "id": "0b2432fe",
        "colab": {
          "base_uri": "https://localhost:8080/"
        },
        "outputId": "5b62297a-2723-46c9-befe-02aeb46a91ac"
      },
      "outputs": [
        {
          "output_type": "stream",
          "name": "stdout",
          "text": [
            "[[1.         2.        ]\n",
            " [1.04040404 2.08080808]\n",
            " [1.08080808 2.16161616]\n",
            " [1.12121212 2.24242424]\n",
            " [1.16161616 2.32323232]\n",
            " [1.2020202  2.4040404 ]\n",
            " [1.24242424 2.48484848]\n",
            " [1.28282828 2.56565657]\n",
            " [1.32323232 2.64646465]\n",
            " [1.36363636 2.72727273]\n",
            " [1.4040404  2.80808081]\n",
            " [1.44444444 2.88888889]\n",
            " [1.48484848 2.96969697]\n",
            " [1.52525253 3.05050505]\n",
            " [1.56565657 3.13131313]\n",
            " [1.60606061 3.21212121]\n",
            " [1.64646465 3.29292929]\n",
            " [1.68686869 3.37373737]\n",
            " [1.72727273 3.45454545]\n",
            " [1.76767677 3.53535354]\n",
            " [1.80808081 3.61616162]\n",
            " [1.84848485 3.6969697 ]\n",
            " [1.88888889 3.77777778]\n",
            " [1.92929293 3.85858586]\n",
            " [1.96969697 3.93939394]\n",
            " [2.01010101 3.96969697]\n",
            " [2.05050505 3.84848485]\n",
            " [2.09090909 3.72727273]\n",
            " [2.13131313 3.60606061]\n",
            " [2.17171717 3.48484848]\n",
            " [2.21212121 3.36363636]\n",
            " [2.25252525 3.24242424]\n",
            " [2.29292929 3.12121212]\n",
            " [2.33333333 3.        ]\n",
            " [2.37373737 2.87878788]\n",
            " [2.41414141 2.75757576]\n",
            " [2.45454545 2.63636364]\n",
            " [2.49494949 2.51515152]\n",
            " [2.53535354 2.39393939]\n",
            " [2.57575758 2.27272727]\n",
            " [2.61616162 2.15151515]\n",
            " [2.65656566 2.03030303]\n",
            " [2.6969697  1.90909091]\n",
            " [2.73737374 1.78787879]\n",
            " [2.77777778 1.66666667]\n",
            " [2.81818182 1.54545455]\n",
            " [2.85858586 1.42424242]\n",
            " [2.8989899  1.3030303 ]\n",
            " [2.93939394 1.18181818]\n",
            " [2.97979798 1.06060606]\n",
            " [3.02020202 1.1010101 ]\n",
            " [3.06060606 1.3030303 ]\n",
            " [3.1010101  1.50505051]\n",
            " [3.14141414 1.70707071]\n",
            " [3.18181818 1.90909091]\n",
            " [3.22222222 2.11111111]\n",
            " [3.26262626 2.31313131]\n",
            " [3.3030303  2.51515152]\n",
            " [3.34343434 2.71717172]\n",
            " [3.38383838 2.91919192]\n",
            " [3.42424242 3.12121212]\n",
            " [3.46464646 3.32323232]\n",
            " [3.50505051 3.52525253]\n",
            " [3.54545455 3.72727273]\n",
            " [3.58585859 3.92929293]\n",
            " [3.62626263 4.13131313]\n",
            " [3.66666667 4.33333333]\n",
            " [3.70707071 4.53535354]\n",
            " [3.74747475 4.73737374]\n",
            " [3.78787879 4.93939394]\n",
            " [3.82828283 5.14141414]\n",
            " [3.86868687 5.34343434]\n",
            " [3.90909091 5.54545455]\n",
            " [3.94949495 5.74747475]\n",
            " [3.98989899 5.94949495]\n",
            " [4.03030303 5.90909091]\n",
            " [4.07070707 5.78787879]\n",
            " [4.11111111 5.66666667]\n",
            " [4.15151515 5.54545455]\n",
            " [4.19191919 5.42424242]\n",
            " [4.23232323 5.3030303 ]\n",
            " [4.27272727 5.18181818]\n",
            " [4.31313131 5.06060606]\n",
            " [4.35353535 4.93939394]\n",
            " [4.39393939 4.81818182]\n",
            " [4.43434343 4.6969697 ]\n",
            " [4.47474747 4.57575758]\n",
            " [4.51515152 4.45454545]\n",
            " [4.55555556 4.33333333]\n",
            " [4.5959596  4.21212121]\n",
            " [4.63636364 4.09090909]\n",
            " [4.67676768 3.96969697]\n",
            " [4.71717172 3.84848485]\n",
            " [4.75757576 3.72727273]\n",
            " [4.7979798  3.60606061]\n",
            " [4.83838384 3.48484848]\n",
            " [4.87878788 3.36363636]\n",
            " [4.91919192 3.24242424]\n",
            " [4.95959596 3.12121212]\n",
            " [5.         3.        ]]\n"
          ]
        }
      ],
      "source": [
        "\n",
        "import numpy as np\n",
        "\n",
        "# Assuming you have vectors X and Y\n",
        "X = np.array([1, 2, 3, 4, 5])\n",
        "Y = np.array([2, 4, 1, 6, 3])\n",
        "\n",
        "# Number of equidistant samples\n",
        "num_samples = 100\n",
        "\n",
        "# Linearly interpolate to generate equidistant samples\n",
        "sample_indices = np.linspace(0, len(X) - 1, num_samples)\n",
        "sampled_X = np.interp(sample_indices, np.arange(len(X)), X)\n",
        "sampled_Y = np.interp(sample_indices, np.arange(len(Y)), Y)\n",
        "\n",
        "# The sampled path is now represented by (sampled_X, sampled_Y)\n",
        "sampled_path = np.column_stack((sampled_X, sampled_Y))\n",
        "\n",
        "print(sampled_path)"
      ],
      "id": "0b2432fe"
    },
    {
      "cell_type": "markdown",
      "metadata": {
        "id": "340d6f36"
      },
      "source": [
        "#### 99. Given an integer n and a 2D array X, select from X the rows which can be interpreted as draws from a multinomial distribution with n degrees, i.e., the rows which only contain integers and which sum to n. (★★★)"
      ],
      "id": "340d6f36"
    },
    {
      "cell_type": "code",
      "execution_count": null,
      "metadata": {
        "id": "a75323ae",
        "colab": {
          "base_uri": "https://localhost:8080/"
        },
        "outputId": "cf51df2c-c496-4e6a-c2d6-962d3f438e02"
      },
      "outputs": [
        {
          "output_type": "stream",
          "name": "stdout",
          "text": [
            "[array([1, 2, 7]), array([4, 5, 1]), array([3, 3, 4])]\n"
          ]
        }
      ],
      "source": [
        "\n",
        "import numpy as np\n",
        "\n",
        "def is_multinomial_draw(row, n):\n",
        "    return np.all(np.equal(np.mod(row, 1), 0)) and np.sum(row) == n\n",
        "\n",
        "# Assuming you have an integer n and a 2D array X\n",
        "n = 10\n",
        "X = np.array([[1, 2, 7],\n",
        "              [4, 5, 1],\n",
        "              [3, 3, 4]])\n",
        "\n",
        "# Select rows meeting the criteria\n",
        "selected_rows = [row for row in X if is_multinomial_draw(row, n)]\n",
        "\n",
        "print(selected_rows)"
      ],
      "id": "a75323ae"
    },
    {
      "cell_type": "markdown",
      "metadata": {
        "id": "19721849"
      },
      "source": [
        "#### 100. Compute bootstrapped 95% confidence intervals for the mean of a 1D array X (i.e., resample the elements of an array with replacement N times, compute the mean of each sample, and then compute percentiles over the means). (★★★)"
      ],
      "id": "19721849"
    },
    {
      "cell_type": "code",
      "execution_count": null,
      "metadata": {
        "id": "87309c6f",
        "colab": {
          "base_uri": "https://localhost:8080/"
        },
        "outputId": "df9baeef-a969-4047-af3e-11dab00b192a"
      },
      "outputs": [
        {
          "output_type": "stream",
          "name": "stdout",
          "text": [
            "Bootstrapped 95% Confidence Interval for Mean: [ 7.595 14.405]\n"
          ]
        }
      ],
      "source": [
        "\n",
        "import numpy as np\n",
        "\n",
        "# Assuming you have a 1D array X\n",
        "X = np.array([2, 4, 6, 8, 10, 12, 14, 16, 18, 20])\n",
        "\n",
        "# Number of bootstrap samples\n",
        "N = 1000\n",
        "\n",
        "# Create an array to store the bootstrap sample means\n",
        "bootstrap_means = np.zeros(N)\n",
        "\n",
        "# Generate bootstrap samples and compute means\n",
        "for i in range(N):\n",
        "    bootstrap_sample = np.random.choice(X, size=len(X), replace=True)\n",
        "    bootstrap_means[i] = np.mean(bootstrap_sample)\n",
        "\n",
        "# Compute 95% confidence intervals\n",
        "confidence_interval = np.percentile(bootstrap_means, [2.5, 97.5])\n",
        "\n",
        "print(f\"Bootstrapped 95% Confidence Interval for Mean: {confidence_interval}\")"
      ],
      "id": "87309c6f"
    }
  ],
  "metadata": {
    "colab": {
      "collapsed_sections": [
        "b50adf7c",
        "1ab4c50d",
        "5b4fe59d",
        "119ab5af",
        "e5e7f323",
        "9b9d03eb",
        "27794913",
        "fae786f5",
        "c85aa0b9",
        "0ff2344d",
        "1a18b263",
        "f85f2cad",
        "5afb72c8",
        "6094d37c",
        "a173cf96",
        "15db2d01",
        "5d94d1ef",
        "114ccc36",
        "d614fee4",
        "b0eedca6",
        "a65ec1cf",
        "75b9397f",
        "82aaf21b",
        "7741e17f",
        "340d6f36",
        "19721849"
      ],
      "provenance": [],
      "include_colab_link": true
    },
    "kernelspec": {
      "display_name": "Python 3",
      "name": "python3"
    },
    "language_info": {
      "name": "python"
    }
  },
  "nbformat": 4,
  "nbformat_minor": 5
}